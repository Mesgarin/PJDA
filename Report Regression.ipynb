{
  "cells": [
    {
      "cell_type": "raw",
      "id": "29b0ac0d",
      "metadata": {},
      "source": [
        "---\n",
        "title: \"Project\"\n",
        "author: \n",
        "  - Nastaran  Mesgari\n",
        "date: 2023-12-06\n",
        "abstract: \" \"\n",
        "format: \n",
        "  html:\n",
        "    code-fold: false\n",
        "    standalone: true\n",
        "    embed-resources: true\n",
        "    toc: true\n",
        "---"
      ]
    },
    {
      "cell_type": "markdown",
      "id": "0e33ae71",
      "metadata": {},
      "source": [
        "# Task 1 \n",
        "\n",
        "## 1- Introduction\n",
        "\n",
        "Data analytics is the collection, transformation, and organization of data to conclude, make predictions, and drive informed decision-making. The data in the file is about student achievement in secondary education at two Portuguese schools. The data attributes include student grades, demographic, social, and school-related features and it was collected using school reports and questionnaires. Therefore, the algorithm used for the machine learning model is based on supervised and there are regression or classification. Classification algorithms utilize input training data to predict the likelihood or probability that the data that follows will fall into one of the predetermined categories.\n",
        "After loading the data and understanding each variable, I cleaned the data and performed data exploration using visualization. In the next step, I process models to find the best model for this type of output. We have discrete variables that are similar to continuous variables due to the small distance between them. In the end, according to these data, we checked whether by classifying the information, our prediction of students' grades would improve or not and whether the accuracy measurement would be checked. We have discrete variables that are similar to continuous variables due to the small distance between them, and at the end, according to these data, we checked whether by classifying the information, our prediction of students' grades would improve or not, and  we check the accuracy.\n",
        "\n",
        "\n",
        "## 2. Data Set\n",
        "\n",
        "### 2.1\tstudent achievement Data set\n",
        "The dataset is provided in ‘csv’ type. After importing the data set, the first step is getting some information about the shape of the data set and variables.\n",
        "The data in the file  is about student achievement in secondary education of two Portuguese schools. The data attributes include student grades, demographic, social and school related features and it was collected by using school reports and questionnaires.there are 948 rows and 40 Columns.(dtypes: float64(1), int64(18), object(18))*\n",
        "The features of the raw data set with their corresponding descriptions are as below:\n",
        "\n",
        "\n",
        "## 3. Data Pre-Processing\n",
        "\n",
        "in this step we import the main libraries that we need\n"
      ]
    },
    {
      "cell_type": "code",
      "execution_count": 182,
      "id": "import-libraries",
      "metadata": {
        "vscode": {
          "languageId": "python"
        }
      },
      "outputs": [],
      "source": [
        "#| label: import-libraries\n",
        "# importing main libraries\n",
        "import pandas as pd\n",
        "import numpy as np\n",
        "import matplotlib.pyplot as plt\n",
        "import seaborn as sns\n",
        "import matplotlib.pyplot as plt\n",
        "from scipy.stats import ttest_ind\n",
        "import warnings\n",
        "warnings.filterwarnings(\"ignore\")"
      ]
    },
    {
      "cell_type": "markdown",
      "id": "99116953",
      "metadata": {},
      "source": [
        "To use data, we need to import them and read the data. In this case, our data is CSV files, and it is in the folder whose name is data.\n"
      ]
    },
    {
      "cell_type": "code",
      "execution_count": 183,
      "id": "data-import",
      "metadata": {
        "vscode": {
          "languageId": "python"
        }
      },
      "outputs": [
        {
          "data": {
            "text/html": [
              "<div>\n",
              "<style scoped>\n",
              "    .dataframe tbody tr th:only-of-type {\n",
              "        vertical-align: middle;\n",
              "    }\n",
              "\n",
              "    .dataframe tbody tr th {\n",
              "        vertical-align: top;\n",
              "    }\n",
              "\n",
              "    .dataframe thead th {\n",
              "        text-align: right;\n",
              "    }\n",
              "</style>\n",
              "<table border=\"1\" class=\"dataframe\">\n",
              "  <thead>\n",
              "    <tr style=\"text-align: right;\">\n",
              "      <th></th>\n",
              "      <th>Unnamed: 0</th>\n",
              "      <th>school</th>\n",
              "      <th>sex</th>\n",
              "      <th>age</th>\n",
              "      <th>address</th>\n",
              "      <th>famsize</th>\n",
              "      <th>Pstatus</th>\n",
              "      <th>Medu</th>\n",
              "      <th>Fedu</th>\n",
              "      <th>Mjob</th>\n",
              "      <th>...</th>\n",
              "      <th>absences.Math</th>\n",
              "      <th>G1.Math</th>\n",
              "      <th>G2.Math</th>\n",
              "      <th>G3.Math</th>\n",
              "      <th>failures.Port</th>\n",
              "      <th>paid.Port</th>\n",
              "      <th>absences.Port</th>\n",
              "      <th>G1.Port</th>\n",
              "      <th>G2.Port</th>\n",
              "      <th>G3.Port</th>\n",
              "    </tr>\n",
              "  </thead>\n",
              "  <tbody>\n",
              "    <tr>\n",
              "      <th>0</th>\n",
              "      <td>227.0</td>\n",
              "      <td>GP</td>\n",
              "      <td>M</td>\n",
              "      <td>16</td>\n",
              "      <td>U</td>\n",
              "      <td>GT3</td>\n",
              "      <td>T</td>\n",
              "      <td>1</td>\n",
              "      <td>2</td>\n",
              "      <td>services</td>\n",
              "      <td>...</td>\n",
              "      <td>2</td>\n",
              "      <td>11</td>\n",
              "      <td>12</td>\n",
              "      <td>11</td>\n",
              "      <td>0</td>\n",
              "      <td>no</td>\n",
              "      <td>0</td>\n",
              "      <td>10</td>\n",
              "      <td>9</td>\n",
              "      <td>11</td>\n",
              "    </tr>\n",
              "    <tr>\n",
              "      <th>1</th>\n",
              "      <td>361.0</td>\n",
              "      <td>MS</td>\n",
              "      <td>M</td>\n",
              "      <td>18</td>\n",
              "      <td>R</td>\n",
              "      <td>GT3</td>\n",
              "      <td>T</td>\n",
              "      <td>4</td>\n",
              "      <td>2</td>\n",
              "      <td>other</td>\n",
              "      <td>...</td>\n",
              "      <td>14</td>\n",
              "      <td>6</td>\n",
              "      <td>5</td>\n",
              "      <td>5</td>\n",
              "      <td>1</td>\n",
              "      <td>yes</td>\n",
              "      <td>0</td>\n",
              "      <td>7</td>\n",
              "      <td>7</td>\n",
              "      <td>0</td>\n",
              "    </tr>\n",
              "    <tr>\n",
              "      <th>2</th>\n",
              "      <td>260.0</td>\n",
              "      <td>GP</td>\n",
              "      <td>M</td>\n",
              "      <td>16</td>\n",
              "      <td>U</td>\n",
              "      <td>LE3</td>\n",
              "      <td>T</td>\n",
              "      <td>2</td>\n",
              "      <td>2</td>\n",
              "      <td>services</td>\n",
              "      <td>...</td>\n",
              "      <td>8</td>\n",
              "      <td>9</td>\n",
              "      <td>9</td>\n",
              "      <td>9</td>\n",
              "      <td>0</td>\n",
              "      <td>no</td>\n",
              "      <td>4</td>\n",
              "      <td>12</td>\n",
              "      <td>11</td>\n",
              "      <td>11</td>\n",
              "    </tr>\n",
              "    <tr>\n",
              "      <th>3</th>\n",
              "      <td>267.0</td>\n",
              "      <td>GP</td>\n",
              "      <td>M</td>\n",
              "      <td>17</td>\n",
              "      <td>R</td>\n",
              "      <td>GT3</td>\n",
              "      <td>T</td>\n",
              "      <td>1</td>\n",
              "      <td>3</td>\n",
              "      <td>other</td>\n",
              "      <td>...</td>\n",
              "      <td>20</td>\n",
              "      <td>9</td>\n",
              "      <td>7</td>\n",
              "      <td>8</td>\n",
              "      <td>1</td>\n",
              "      <td>no</td>\n",
              "      <td>14</td>\n",
              "      <td>12</td>\n",
              "      <td>11</td>\n",
              "      <td>11</td>\n",
              "    </tr>\n",
              "    <tr>\n",
              "      <th>4</th>\n",
              "      <td>2.0</td>\n",
              "      <td>GP</td>\n",
              "      <td>F</td>\n",
              "      <td>15</td>\n",
              "      <td>R</td>\n",
              "      <td>GT3</td>\n",
              "      <td>T</td>\n",
              "      <td>1</td>\n",
              "      <td>1</td>\n",
              "      <td>other</td>\n",
              "      <td>...</td>\n",
              "      <td>2</td>\n",
              "      <td>8</td>\n",
              "      <td>6</td>\n",
              "      <td>5</td>\n",
              "      <td>0</td>\n",
              "      <td>no</td>\n",
              "      <td>2</td>\n",
              "      <td>13</td>\n",
              "      <td>11</td>\n",
              "      <td>11</td>\n",
              "    </tr>\n",
              "  </tbody>\n",
              "</table>\n",
              "<p>5 rows × 40 columns</p>\n",
              "</div>"
            ],
            "text/plain": [
              "   Unnamed: 0 school sex  age address famsize Pstatus  Medu  Fedu      Mjob  \\\n",
              "0       227.0     GP   M   16       U     GT3       T     1     2  services   \n",
              "1       361.0     MS   M   18       R     GT3       T     4     2     other   \n",
              "2       260.0     GP   M   16       U     LE3       T     2     2  services   \n",
              "3       267.0     GP   M   17       R     GT3       T     1     3     other   \n",
              "4         2.0     GP   F   15       R     GT3       T     1     1     other   \n",
              "\n",
              "   ... absences.Math G1.Math G2.Math  G3.Math  failures.Port paid.Port  \\\n",
              "0  ...             2      11      12       11              0        no   \n",
              "1  ...            14       6       5        5              1       yes   \n",
              "2  ...             8       9       9        9              0        no   \n",
              "3  ...            20       9       7        8              1        no   \n",
              "4  ...             2       8       6        5              0        no   \n",
              "\n",
              "  absences.Port G1.Port G2.Port G3.Port  \n",
              "0             0      10       9      11  \n",
              "1             0       7       7       0  \n",
              "2             4      12      11      11  \n",
              "3            14      12      11      11  \n",
              "4             2      13      11      11  \n",
              "\n",
              "[5 rows x 40 columns]"
            ]
          },
          "execution_count": 183,
          "metadata": {},
          "output_type": "execute_result"
        }
      ],
      "source": [
        "#| label: data-import\n",
        "# Import your data here.\n",
        "df = pd.read_csv('data\\exam_data.csv')\n",
        "df.head() "
      ]
    },
    {
      "cell_type": "code",
      "execution_count": 184,
      "id": "show-how-many-rows-and-coloumn-in-data-set",
      "metadata": {
        "vscode": {
          "languageId": "python"
        }
      },
      "outputs": [
        {
          "data": {
            "text/plain": [
              "(948, 40)"
            ]
          },
          "execution_count": 184,
          "metadata": {},
          "output_type": "execute_result"
        }
      ],
      "source": [
        "#| label: show how many rows and coloumn in data set\n",
        "df.shape"
      ]
    },
    {
      "cell_type": "code",
      "execution_count": 185,
      "id": "Get-inforaion",
      "metadata": {
        "vscode": {
          "languageId": "python"
        }
      },
      "outputs": [
        {
          "name": "stdout",
          "output_type": "stream",
          "text": [
            "<class 'pandas.core.frame.DataFrame'>\n",
            "RangeIndex: 948 entries, 0 to 947\n",
            "Data columns (total 40 columns):\n",
            " #   Column         Non-Null Count  Dtype  \n",
            "---  ------         --------------  -----  \n",
            " 0   Unnamed: 0     948 non-null    float64\n",
            " 1   school         948 non-null    object \n",
            " 2   sex            948 non-null    object \n",
            " 3   age            948 non-null    int64  \n",
            " 4   address        948 non-null    object \n",
            " 5   famsize        948 non-null    object \n",
            " 6   Pstatus        948 non-null    object \n",
            " 7   Medu           948 non-null    int64  \n",
            " 8   Fedu           948 non-null    int64  \n",
            " 9   Mjob           948 non-null    object \n",
            " 10  Fjob           948 non-null    object \n",
            " 11  reason         948 non-null    object \n",
            " 12  guardian       948 non-null    object \n",
            " 13  traveltime     948 non-null    int64  \n",
            " 14  studytime      948 non-null    int64  \n",
            " 15  schoolsup      948 non-null    object \n",
            " 16  famsup         948 non-null    object \n",
            " 17  activities     948 non-null    object \n",
            " 18  nursery        948 non-null    object \n",
            " 19  higher         948 non-null    object \n",
            " 20  internet       948 non-null    object \n",
            " 21  romantic       948 non-null    object \n",
            " 22  famrel         948 non-null    int64  \n",
            " 23  freetime       948 non-null    int64  \n",
            " 24  goout          948 non-null    int64  \n",
            " 25  Dalc           948 non-null    int64  \n",
            " 26  Walc           948 non-null    int64  \n",
            " 27  health         948 non-null    int64  \n",
            " 28  failures.Math  948 non-null    int64  \n",
            " 29  paid.Math      948 non-null    object \n",
            " 30  absences.Math  948 non-null    int64  \n",
            " 31  G1.Math        948 non-null    int64  \n",
            " 32  G2.Math        948 non-null    int64  \n",
            " 33  G3.Math        948 non-null    int64  \n",
            " 34  failures.Port  948 non-null    int64  \n",
            " 35  paid.Port      948 non-null    object \n",
            " 36  absences.Port  948 non-null    int64  \n",
            " 37  G1.Port        948 non-null    int64  \n",
            " 38  G2.Port        948 non-null    int64  \n",
            " 39  G3.Port        948 non-null    int64  \n",
            "dtypes: float64(1), int64(21), object(18)\n",
            "memory usage: 296.4+ KB\n"
          ]
        }
      ],
      "source": [
        "#| label: Get inforaion\n",
        "# getting data on dataset\n",
        "df.info()"
      ]
    },
    {
      "cell_type": "markdown",
      "id": "a06704df",
      "metadata": {},
      "source": [
        "### 3.1\tData Cleaning\n",
        "\n",
        "The steps followed for the data set is given below:\n",
        "\n",
        "#### 3.1.1 Dropping unnecessary columns and rows:\n",
        "\n",
        "Dropping unnecessary columns and rows is a data preprocessing step that involves removing specific columns or rows from a dataset that are deemed unnecessary for the analysis or modeling task at hand. This process is beneficial for several reasons. Reducing Dimensionality, Improving Computational Efficiency, Enhancing Model Performance, and so on .\n",
        "At this stage, I check the data, and in this step,  model must contain the variables absences.Port, famsup, Walc, failures.Port, studytime, famrel but not the variables Fedu, Medu, age. \n",
        "so I droped the Fedu, Medu, age.\n"
      ]
    },
    {
      "cell_type": "code",
      "execution_count": 186,
      "id": "15c904c3",
      "metadata": {
        "vscode": {
          "languageId": "python"
        }
      },
      "outputs": [
        {
          "name": "stdout",
          "output_type": "stream",
          "text": [
            "<class 'pandas.core.frame.DataFrame'>\n",
            "RangeIndex: 948 entries, 0 to 947\n",
            "Data columns (total 37 columns):\n",
            " #   Column         Non-Null Count  Dtype  \n",
            "---  ------         --------------  -----  \n",
            " 0   Unnamed: 0     948 non-null    float64\n",
            " 1   school         948 non-null    object \n",
            " 2   sex            948 non-null    object \n",
            " 3   address        948 non-null    object \n",
            " 4   famsize        948 non-null    object \n",
            " 5   Pstatus        948 non-null    object \n",
            " 6   Mjob           948 non-null    object \n",
            " 7   Fjob           948 non-null    object \n",
            " 8   reason         948 non-null    object \n",
            " 9   guardian       948 non-null    object \n",
            " 10  traveltime     948 non-null    int64  \n",
            " 11  studytime      948 non-null    int64  \n",
            " 12  schoolsup      948 non-null    object \n",
            " 13  famsup         948 non-null    object \n",
            " 14  activities     948 non-null    object \n",
            " 15  nursery        948 non-null    object \n",
            " 16  higher         948 non-null    object \n",
            " 17  internet       948 non-null    object \n",
            " 18  romantic       948 non-null    object \n",
            " 19  famrel         948 non-null    int64  \n",
            " 20  freetime       948 non-null    int64  \n",
            " 21  goout          948 non-null    int64  \n",
            " 22  Dalc           948 non-null    int64  \n",
            " 23  Walc           948 non-null    int64  \n",
            " 24  health         948 non-null    int64  \n",
            " 25  failures.Math  948 non-null    int64  \n",
            " 26  paid.Math      948 non-null    object \n",
            " 27  absences.Math  948 non-null    int64  \n",
            " 28  G1.Math        948 non-null    int64  \n",
            " 29  G2.Math        948 non-null    int64  \n",
            " 30  G3.Math        948 non-null    int64  \n",
            " 31  failures.Port  948 non-null    int64  \n",
            " 32  paid.Port      948 non-null    object \n",
            " 33  absences.Port  948 non-null    int64  \n",
            " 34  G1.Port        948 non-null    int64  \n",
            " 35  G2.Port        948 non-null    int64  \n",
            " 36  G3.Port        948 non-null    int64  \n",
            "dtypes: float64(1), int64(18), object(18)\n",
            "memory usage: 274.2+ KB\n"
          ]
        }
      ],
      "source": [
        "# drop the column on dataset\n",
        "df.drop('Fedu', axis=1, inplace=True)\n",
        "df.drop('Medu', axis=1, inplace=True)\n",
        "df.drop('age', axis=1, inplace=True)\n",
        "df.info()"
      ]
    },
    {
      "cell_type": "markdown",
      "id": "a70a3142",
      "metadata": {},
      "source": [
        "#### 3.1.2 Checking for missing values\n",
        "\n",
        "In most cases, we do not get complete datasets. They either have some values missing from the rows and columns or they do not have standardized values.\n",
        "So, before going ahead with the analysis, it is a good idea to check whether the dataset has any missing values. \n",
        "in this step all data check and there didn’t find any missing value.  \n"
      ]
    },
    {
      "cell_type": "code",
      "execution_count": 187,
      "id": "620b4973",
      "metadata": {
        "vscode": {
          "languageId": "python"
        }
      },
      "outputs": [
        {
          "data": {
            "text/plain": [
              "(948, 37)"
            ]
          },
          "execution_count": 187,
          "metadata": {},
          "output_type": "execute_result"
        }
      ],
      "source": [
        "# Drop rows with null values\n",
        "df = df.dropna()\n",
        "#df.info()\n",
        "df.shape"
      ]
    },
    {
      "cell_type": "markdown",
      "id": "6c1d6ea4",
      "metadata": {},
      "source": [
        "in this step we check the missing value and there are no missing value anf the row not need to drop.\n"
      ]
    },
    {
      "cell_type": "code",
      "execution_count": 188,
      "id": "027728be",
      "metadata": {
        "vscode": {
          "languageId": "python"
        }
      },
      "outputs": [
        {
          "name": "stdout",
          "output_type": "stream",
          "text": [
            "Unnamed: 0       0\n",
            "school           0\n",
            "sex              0\n",
            "address          0\n",
            "famsize          0\n",
            "Pstatus          0\n",
            "Mjob             0\n",
            "Fjob             0\n",
            "reason           0\n",
            "guardian         0\n",
            "traveltime       0\n",
            "studytime        0\n",
            "schoolsup        0\n",
            "famsup           0\n",
            "activities       0\n",
            "nursery          0\n",
            "higher           0\n",
            "internet         0\n",
            "romantic         0\n",
            "famrel           0\n",
            "freetime         0\n",
            "goout            0\n",
            "Dalc             0\n",
            "Walc             0\n",
            "health           0\n",
            "failures.Math    0\n",
            "paid.Math        0\n",
            "absences.Math    0\n",
            "G1.Math          0\n",
            "G2.Math          0\n",
            "G3.Math          0\n",
            "failures.Port    0\n",
            "paid.Port        0\n",
            "absences.Port    0\n",
            "G1.Port          0\n",
            "G2.Port          0\n",
            "G3.Port          0\n",
            "dtype: int64\n"
          ]
        },
        {
          "data": {
            "text/plain": [
              "(948, 37)"
            ]
          },
          "execution_count": 188,
          "metadata": {},
          "output_type": "execute_result"
        }
      ],
      "source": [
        "# Checking for missing values in the entire dataset\n",
        "missing_values = df.isnull().sum()\n",
        "# Printing the result\n",
        "print(missing_values)\n",
        "df.shape"
      ]
    },
    {
      "cell_type": "markdown",
      "id": "2c98fd26",
      "metadata": {},
      "source": [
        "we do not have any value for replacing with missing data if we have ve can replace it or drop it . \n"
      ]
    },
    {
      "cell_type": "code",
      "execution_count": 189,
      "id": "5327e29a",
      "metadata": {
        "vscode": {
          "languageId": "python"
        }
      },
      "outputs": [
        {
          "data": {
            "text/plain": [
              "0"
            ]
          },
          "execution_count": 189,
          "metadata": {},
          "output_type": "execute_result"
        }
      ],
      "source": [
        "# counting the missing value in case the data set is very big and replace it \n",
        "num_missing_values = 0\n",
        "for column in df.columns:\n",
        "  for item in df[column].isnull():\n",
        "    if item == True:\n",
        "      num_missing_values += 1\n",
        "\n",
        "num_missing_values"
      ]
    },
    {
      "cell_type": "markdown",
      "id": "9db0500a",
      "metadata": {},
      "source": [
        "#### \t3.1.3 Checking for garbage values\n",
        "\n",
        "Garbage value is generally a term meaning that the value in a variable doesn't have some sort of planned meaning.\n",
        "By checking the statistical information of the data, some variables have negative values, and some have 0 values which are not compatible with the definition (corresponding to the dataset).\n",
        "The detail of these values is given in the following tables:\n",
        "\n",
        "*** Negative Values and Zero for deleting ***\n",
        "\n",
        "by this code we can check the data for minus and zero if it is not compatible by the meaning they have.\n"
      ]
    },
    {
      "cell_type": "code",
      "execution_count": 190,
      "id": "67457ba3",
      "metadata": {
        "vscode": {
          "languageId": "python"
        }
      },
      "outputs": [
        {
          "data": {
            "text/plain": [
              "Index(['Unnamed: 0', 'school', 'sex', 'address', 'famsize', 'Pstatus', 'Mjob',\n",
              "       'Fjob', 'reason', 'guardian', 'traveltime', 'studytime', 'schoolsup',\n",
              "       'famsup', 'activities', 'nursery', 'higher', 'internet', 'romantic',\n",
              "       'famrel', 'freetime', 'goout', 'Dalc', 'Walc', 'health',\n",
              "       'failures.Math', 'paid.Math', 'absences.Math', 'G1.Math', 'G2.Math',\n",
              "       'G3.Math', 'failures.Port', 'paid.Port', 'absences.Port', 'G1.Port',\n",
              "       'G2.Port', 'G3.Port'],\n",
              "      dtype='object')"
            ]
          },
          "execution_count": 190,
          "metadata": {},
          "output_type": "execute_result"
        }
      ],
      "source": [
        "# get name the columns\n",
        "df.columns"
      ]
    },
    {
      "cell_type": "code",
      "execution_count": 191,
      "id": "a0a8efda",
      "metadata": {
        "vscode": {
          "languageId": "python"
        }
      },
      "outputs": [
        {
          "data": {
            "text/plain": [
              "studytime\n",
              "2    475\n",
              "1    253\n",
              "3    160\n",
              "4     60\n",
              "Name: count, dtype: int64"
            ]
          },
          "execution_count": 191,
          "metadata": {},
          "output_type": "execute_result"
        }
      ],
      "source": [
        "# Checking the negative values of studytime\n",
        "df[df['studytime']<0]['studytime'].value_counts()\n",
        "df['studytime'].value_counts()"
      ]
    },
    {
      "cell_type": "code",
      "execution_count": 192,
      "id": "26b4e782",
      "metadata": {
        "vscode": {
          "languageId": "python"
        }
      },
      "outputs": [
        {
          "data": {
            "text/plain": [
              "Walc\n",
              "1    360\n",
              "2    222\n",
              "3    187\n",
              "4    111\n",
              "5     68\n",
              "Name: count, dtype: int64"
            ]
          },
          "execution_count": 192,
          "metadata": {},
          "output_type": "execute_result"
        }
      ],
      "source": [
        "# Checking the 0 values of sex\n",
        "df[df['Walc']==0]['Walc'].value_counts()\n",
        "df['Walc'].value_counts()"
      ]
    },
    {
      "cell_type": "markdown",
      "id": "3fab3980",
      "metadata": {},
      "source": [
        "we checked the data , and there are any value of minus and zero so the rows not be changed .\n",
        "\n",
        "#### \t3.1.4 Checking the distribution of each variable \n",
        "\n",
        "Checking the distribution of each variable involves examining the spread and pattern of values within individual columns or features in a dataset. Understanding the distribution helps you gain insights into the central tendencies, variability, and shape of the data. This is crucial for making informed decisions during data analysis and modeling. Common statistical measures used to describe the distribution include mean, median, and standard deviation.\n",
        "\n",
        "In this phase, first we checked the numeric variables with zero variance (threshold = 0), *they do not have any contribution on the model*.at this data we do not have any standard deviation equal to zero. so this step we didnt drop anything.\n",
        "only drop some columns such as unnamed ( column1 for indexing ) and some column that in the task announced to drop it such as Grad in port and math.\n"
      ]
    },
    {
      "cell_type": "code",
      "execution_count": 193,
      "id": "be008416",
      "metadata": {
        "vscode": {
          "languageId": "python"
        }
      },
      "outputs": [
        {
          "data": {
            "text/plain": [
              "Index(['school', 'sex', 'address', 'famsize', 'Pstatus', 'Mjob', 'Fjob',\n",
              "       'reason', 'guardian', 'traveltime', 'studytime', 'schoolsup', 'famsup',\n",
              "       'activities', 'nursery', 'higher', 'internet', 'romantic', 'famrel',\n",
              "       'freetime', 'goout', 'Dalc', 'Walc', 'health', 'failures.Math',\n",
              "       'paid.Math', 'absences.Math', 'G1.Math', 'failures.Port', 'paid.Port',\n",
              "       'absences.Port'],\n",
              "      dtype='object')"
            ]
          },
          "execution_count": 193,
          "metadata": {},
          "output_type": "execute_result"
        }
      ],
      "source": [
        "df = df.drop([ 'G3.Port','G2.Port','G1.Port','G3.Math','G2.Math'],axis=1)\n",
        "df = df.drop(['Unnamed: 0'],axis=1)\n",
        "df.head()\n",
        "df.columns"
      ]
    },
    {
      "cell_type": "markdown",
      "id": "9148b0a2",
      "metadata": {},
      "source": [
        "check the standard deviation if there are value near the zero , we can delete it . "
      ]
    },
    {
      "cell_type": "code",
      "execution_count": 194,
      "id": "228eaf59",
      "metadata": {
        "vscode": {
          "languageId": "python"
        }
      },
      "outputs": [
        {
          "data": {
            "text/html": [
              "<div>\n",
              "<style scoped>\n",
              "    .dataframe tbody tr th:only-of-type {\n",
              "        vertical-align: middle;\n",
              "    }\n",
              "\n",
              "    .dataframe tbody tr th {\n",
              "        vertical-align: top;\n",
              "    }\n",
              "\n",
              "    .dataframe thead th {\n",
              "        text-align: right;\n",
              "    }\n",
              "</style>\n",
              "<table border=\"1\" class=\"dataframe\">\n",
              "  <thead>\n",
              "    <tr style=\"text-align: right;\">\n",
              "      <th></th>\n",
              "      <th>count</th>\n",
              "      <th>mean</th>\n",
              "      <th>std</th>\n",
              "      <th>min</th>\n",
              "      <th>25%</th>\n",
              "      <th>50%</th>\n",
              "      <th>75%</th>\n",
              "      <th>max</th>\n",
              "    </tr>\n",
              "  </thead>\n",
              "  <tbody>\n",
              "    <tr>\n",
              "      <th>traveltime</th>\n",
              "      <td>948.0</td>\n",
              "      <td>1.417722</td>\n",
              "      <td>0.680535</td>\n",
              "      <td>1.0</td>\n",
              "      <td>1.0</td>\n",
              "      <td>1.0</td>\n",
              "      <td>2.0</td>\n",
              "      <td>4.0</td>\n",
              "    </tr>\n",
              "    <tr>\n",
              "      <th>studytime</th>\n",
              "      <td>948.0</td>\n",
              "      <td>2.028481</td>\n",
              "      <td>0.829900</td>\n",
              "      <td>1.0</td>\n",
              "      <td>1.0</td>\n",
              "      <td>2.0</td>\n",
              "      <td>2.0</td>\n",
              "      <td>4.0</td>\n",
              "    </tr>\n",
              "    <tr>\n",
              "      <th>famrel</th>\n",
              "      <td>948.0</td>\n",
              "      <td>3.939873</td>\n",
              "      <td>0.897946</td>\n",
              "      <td>1.0</td>\n",
              "      <td>4.0</td>\n",
              "      <td>4.0</td>\n",
              "      <td>5.0</td>\n",
              "      <td>5.0</td>\n",
              "    </tr>\n",
              "    <tr>\n",
              "      <th>freetime</th>\n",
              "      <td>948.0</td>\n",
              "      <td>3.272152</td>\n",
              "      <td>0.969321</td>\n",
              "      <td>1.0</td>\n",
              "      <td>3.0</td>\n",
              "      <td>3.0</td>\n",
              "      <td>4.0</td>\n",
              "      <td>5.0</td>\n",
              "    </tr>\n",
              "    <tr>\n",
              "      <th>goout</th>\n",
              "      <td>948.0</td>\n",
              "      <td>3.119198</td>\n",
              "      <td>1.124523</td>\n",
              "      <td>1.0</td>\n",
              "      <td>2.0</td>\n",
              "      <td>3.0</td>\n",
              "      <td>4.0</td>\n",
              "      <td>5.0</td>\n",
              "    </tr>\n",
              "    <tr>\n",
              "      <th>Dalc</th>\n",
              "      <td>948.0</td>\n",
              "      <td>1.478903</td>\n",
              "      <td>0.869875</td>\n",
              "      <td>1.0</td>\n",
              "      <td>1.0</td>\n",
              "      <td>1.0</td>\n",
              "      <td>2.0</td>\n",
              "      <td>5.0</td>\n",
              "    </tr>\n",
              "    <tr>\n",
              "      <th>Walc</th>\n",
              "      <td>948.0</td>\n",
              "      <td>2.266878</td>\n",
              "      <td>1.273348</td>\n",
              "      <td>1.0</td>\n",
              "      <td>1.0</td>\n",
              "      <td>2.0</td>\n",
              "      <td>3.0</td>\n",
              "      <td>5.0</td>\n",
              "    </tr>\n",
              "    <tr>\n",
              "      <th>health</th>\n",
              "      <td>948.0</td>\n",
              "      <td>3.624473</td>\n",
              "      <td>1.392510</td>\n",
              "      <td>1.0</td>\n",
              "      <td>3.0</td>\n",
              "      <td>4.0</td>\n",
              "      <td>5.0</td>\n",
              "      <td>5.0</td>\n",
              "    </tr>\n",
              "    <tr>\n",
              "      <th>failures.Math</th>\n",
              "      <td>948.0</td>\n",
              "      <td>0.287975</td>\n",
              "      <td>0.706272</td>\n",
              "      <td>0.0</td>\n",
              "      <td>0.0</td>\n",
              "      <td>0.0</td>\n",
              "      <td>0.0</td>\n",
              "      <td>3.0</td>\n",
              "    </tr>\n",
              "    <tr>\n",
              "      <th>absences.Math</th>\n",
              "      <td>948.0</td>\n",
              "      <td>5.290084</td>\n",
              "      <td>7.366354</td>\n",
              "      <td>0.0</td>\n",
              "      <td>0.0</td>\n",
              "      <td>2.0</td>\n",
              "      <td>8.0</td>\n",
              "      <td>75.0</td>\n",
              "    </tr>\n",
              "    <tr>\n",
              "      <th>G1.Math</th>\n",
              "      <td>948.0</td>\n",
              "      <td>10.950422</td>\n",
              "      <td>3.376837</td>\n",
              "      <td>3.0</td>\n",
              "      <td>8.0</td>\n",
              "      <td>11.0</td>\n",
              "      <td>13.0</td>\n",
              "      <td>19.0</td>\n",
              "    </tr>\n",
              "    <tr>\n",
              "      <th>failures.Port</th>\n",
              "      <td>948.0</td>\n",
              "      <td>0.135021</td>\n",
              "      <td>0.484956</td>\n",
              "      <td>0.0</td>\n",
              "      <td>0.0</td>\n",
              "      <td>0.0</td>\n",
              "      <td>0.0</td>\n",
              "      <td>3.0</td>\n",
              "    </tr>\n",
              "    <tr>\n",
              "      <th>absences.Port</th>\n",
              "      <td>948.0</td>\n",
              "      <td>3.822785</td>\n",
              "      <td>5.141321</td>\n",
              "      <td>0.0</td>\n",
              "      <td>0.0</td>\n",
              "      <td>2.0</td>\n",
              "      <td>6.0</td>\n",
              "      <td>32.0</td>\n",
              "    </tr>\n",
              "  </tbody>\n",
              "</table>\n",
              "</div>"
            ],
            "text/plain": [
              "               count       mean       std  min  25%   50%   75%   max\n",
              "traveltime     948.0   1.417722  0.680535  1.0  1.0   1.0   2.0   4.0\n",
              "studytime      948.0   2.028481  0.829900  1.0  1.0   2.0   2.0   4.0\n",
              "famrel         948.0   3.939873  0.897946  1.0  4.0   4.0   5.0   5.0\n",
              "freetime       948.0   3.272152  0.969321  1.0  3.0   3.0   4.0   5.0\n",
              "goout          948.0   3.119198  1.124523  1.0  2.0   3.0   4.0   5.0\n",
              "Dalc           948.0   1.478903  0.869875  1.0  1.0   1.0   2.0   5.0\n",
              "Walc           948.0   2.266878  1.273348  1.0  1.0   2.0   3.0   5.0\n",
              "health         948.0   3.624473  1.392510  1.0  3.0   4.0   5.0   5.0\n",
              "failures.Math  948.0   0.287975  0.706272  0.0  0.0   0.0   0.0   3.0\n",
              "absences.Math  948.0   5.290084  7.366354  0.0  0.0   2.0   8.0  75.0\n",
              "G1.Math        948.0  10.950422  3.376837  3.0  8.0  11.0  13.0  19.0\n",
              "failures.Port  948.0   0.135021  0.484956  0.0  0.0   0.0   0.0   3.0\n",
              "absences.Port  948.0   3.822785  5.141321  0.0  0.0   2.0   6.0  32.0"
            ]
          },
          "execution_count": 194,
          "metadata": {},
          "output_type": "execute_result"
        }
      ],
      "source": [
        "df.describe().T"
      ]
    },
    {
      "cell_type": "markdown",
      "id": "5837db03",
      "metadata": {},
      "source": [
        "### 3.2 Data Transformation\n",
        "\n",
        "#### 3.2.1 Transforming the categorical variables\n",
        "\n",
        "If we have a column that is object for example yes or no question or if we have Boolean, we can convert them to integer.in this stage I created the new column. \n",
        "in this step we change type of ‘famsup’ from object to integer for using the model.\n",
        "Encoding for famsup: 1 for 'yes', 0 for 'no'\n"
      ]
    },
    {
      "cell_type": "code",
      "execution_count": 195,
      "id": "e1c2eaf7",
      "metadata": {
        "vscode": {
          "languageId": "python"
        }
      },
      "outputs": [
        {
          "name": "stdout",
          "output_type": "stream",
          "text": [
            "    school sex address famsize Pstatus      Mjob      Fjob      reason  \\\n",
            "0       GP   M       U     GT3       T  services  services       other   \n",
            "1       MS   M       R     GT3       T     other     other        home   \n",
            "2       GP   M       U     LE3       T  services  services  reputation   \n",
            "3       GP   M       R     GT3       T     other     other      course   \n",
            "4       GP   F       R     GT3       T     other     other  reputation   \n",
            "..     ...  ..     ...     ...     ...       ...       ...         ...   \n",
            "943     GP   F       U     GT3       T     other     other  reputation   \n",
            "944     GP   F       U     GT3       T    health  services  reputation   \n",
            "945     GP   M       U     GT3       T  services   teacher      course   \n",
            "946     GP   M       U     LE3       T     other     other        home   \n",
            "947     GP   M       U     GT3       T     other     other      course   \n",
            "\n",
            "    guardian  traveltime  ...  Dalc Walc health failures.Math paid.Math  \\\n",
            "0     mother           1  ...     1    2      3             0       yes   \n",
            "1     father           2  ...     4    3      3             1       yes   \n",
            "2     father           2  ...     2    2      2             2        no   \n",
            "3     father           3  ...     1    4      5             1        no   \n",
            "4     mother           1  ...     2    4      5             2        no   \n",
            "..       ...         ...  ...   ...  ...    ...           ...       ...   \n",
            "943   mother           1  ...     1    2      1             0       yes   \n",
            "944   mother           1  ...     1    2      3             0       yes   \n",
            "945   father           1  ...     1    1      5             0        no   \n",
            "946   mother           1  ...     1    1      3             0        no   \n",
            "947   mother           1  ...     2    2      3             0        no   \n",
            "\n",
            "    absences.Math G1.Math failures.Port  paid.Port  absences.Port  \n",
            "0               2      11             0         no              0  \n",
            "1              14       6             1        yes              0  \n",
            "2               8       9             0         no              4  \n",
            "3              20       9             1         no             14  \n",
            "4               2       8             0         no              2  \n",
            "..            ...     ...           ...        ...            ...  \n",
            "943            14      12             0         no              8  \n",
            "944             0      15             0         no              0  \n",
            "945             2      19             0         no              0  \n",
            "946             0      12             0         no              0  \n",
            "947             3       9             0         no              0  \n",
            "\n",
            "[948 rows x 31 columns]\n"
          ]
        }
      ],
      "source": [
        "# Specify the columns you want to keep\n",
        "selected_columns = ['school', 'sex', 'address', 'famsize', 'Pstatus', 'Mjob', 'Fjob',\n",
        "       'reason', 'guardian', 'traveltime', 'studytime', 'schoolsup', 'famsup',\n",
        "       'activities', 'nursery', 'higher', 'internet', 'romantic', 'famrel',\n",
        "       'freetime', 'goout', 'Dalc', 'Walc', 'health', 'failures.Math',\n",
        "       'paid.Math', 'absences.Math', 'G1.Math', 'failures.Port', 'paid.Port',\n",
        "       'absences.Port']\n",
        "\n",
        "# Create a new DataFrame with only the selected columns\n",
        "G1Math_df = df[selected_columns]\n",
        "\n",
        "# Display the new DataFrame\n",
        "print(G1Math_df)"
      ]
    },
    {
      "cell_type": "code",
      "execution_count": 196,
      "id": "716b63e0",
      "metadata": {
        "vscode": {
          "languageId": "python"
        }
      },
      "outputs": [],
      "source": [
        "\"\"\"Ordinal Encoding for famsup: 1:yes, 0:no,\"\"\"\n",
        "#using Map Function\n",
        "G1Math_df = G1Math_df.copy()\n",
        "\n",
        "# Ordinal Encoding for famsup: 1 for 'yes', 0 for 'no'\n",
        "ordinal_map = {'yes': 1, 'no': 0}\n",
        "G1Math_df['famsup'] = G1Math_df['famsup'].map(ordinal_map)\n",
        "G1Math_df['famsup'] = G1Math_df['famsup'].astype(int)"
      ]
    },
    {
      "cell_type": "code",
      "execution_count": 197,
      "id": "c376aa55",
      "metadata": {
        "vscode": {
          "languageId": "python"
        }
      },
      "outputs": [
        {
          "name": "stdout",
          "output_type": "stream",
          "text": [
            "<class 'pandas.core.frame.DataFrame'>\n",
            "RangeIndex: 948 entries, 0 to 947\n",
            "Data columns (total 31 columns):\n",
            " #   Column         Non-Null Count  Dtype \n",
            "---  ------         --------------  ----- \n",
            " 0   school         948 non-null    object\n",
            " 1   sex            948 non-null    object\n",
            " 2   address        948 non-null    object\n",
            " 3   famsize        948 non-null    object\n",
            " 4   Pstatus        948 non-null    object\n",
            " 5   Mjob           948 non-null    object\n",
            " 6   Fjob           948 non-null    object\n",
            " 7   reason         948 non-null    object\n",
            " 8   guardian       948 non-null    object\n",
            " 9   traveltime     948 non-null    int64 \n",
            " 10  studytime      948 non-null    int64 \n",
            " 11  schoolsup      948 non-null    object\n",
            " 12  famsup         948 non-null    int32 \n",
            " 13  activities     948 non-null    object\n",
            " 14  nursery        948 non-null    object\n",
            " 15  higher         948 non-null    object\n",
            " 16  internet       948 non-null    object\n",
            " 17  romantic       948 non-null    object\n",
            " 18  famrel         948 non-null    int64 \n",
            " 19  freetime       948 non-null    int64 \n",
            " 20  goout          948 non-null    int64 \n",
            " 21  Dalc           948 non-null    int64 \n",
            " 22  Walc           948 non-null    int64 \n",
            " 23  health         948 non-null    int64 \n",
            " 24  failures.Math  948 non-null    int64 \n",
            " 25  paid.Math      948 non-null    object\n",
            " 26  absences.Math  948 non-null    int64 \n",
            " 27  G1.Math        948 non-null    int64 \n",
            " 28  failures.Port  948 non-null    int64 \n",
            " 29  paid.Port      948 non-null    object\n",
            " 30  absences.Port  948 non-null    int64 \n",
            "dtypes: int32(1), int64(13), object(17)\n",
            "memory usage: 226.0+ KB\n"
          ]
        },
        {
          "data": {
            "text/plain": [
              "(948, 31)"
            ]
          },
          "execution_count": 197,
          "metadata": {},
          "output_type": "execute_result"
        }
      ],
      "source": [
        "G1Math_df.info()\n",
        "#G1Math_df.head()\n",
        "G1Math_df.shape"
      ]
    },
    {
      "cell_type": "markdown",
      "id": "c533b2f4",
      "metadata": {},
      "source": [
        "## 4 Data Exploration\n",
        "\n",
        "We put our visualization here.\n",
        "\n",
        "### 4.1 Finding outliers , dummy variable\n",
        "\n",
        "Finding outliers in a dataset involves identifying data points that significantly differ from the majority of the data. The use of outlier detection methods depends on the type of data and the analysis objective. However, generally, these methods are commonly applied to numerical columns or continuous variables. The reason for this is that the concept of outliers is more definable in continuous variables, and statistical measures such as mean, standard deviation, box plots, can easily be employed for their identification.\n",
        "for founding the outliers of  discrete and categorical variables we need to find the type of variables are integer or objects . \n"
      ]
    },
    {
      "cell_type": "code",
      "execution_count": 198,
      "id": "9490e060",
      "metadata": {
        "vscode": {
          "languageId": "python"
        }
      },
      "outputs": [
        {
          "data": {
            "text/plain": [
              "Index(['school', 'sex', 'address', 'famsize', 'Pstatus', 'Mjob', 'Fjob',\n",
              "       'reason', 'guardian', 'traveltime', 'studytime', 'schoolsup', 'famsup',\n",
              "       'activities', 'nursery', 'higher', 'internet', 'romantic', 'famrel',\n",
              "       'freetime', 'goout', 'Dalc', 'Walc', 'health', 'failures.Math',\n",
              "       'paid.Math', 'absences.Math', 'G1.Math', 'failures.Port', 'paid.Port',\n",
              "       'absences.Port'],\n",
              "      dtype='object')"
            ]
          },
          "execution_count": 198,
          "metadata": {},
          "output_type": "execute_result"
        }
      ],
      "source": [
        "G1Math_df.columns"
      ]
    },
    {
      "cell_type": "code",
      "execution_count": 199,
      "id": "7bc7d43c",
      "metadata": {
        "vscode": {
          "languageId": "python"
        }
      },
      "outputs": [
        {
          "data": {
            "text/plain": [
              "Index(['traveltime', 'studytime', 'famsup', 'famrel', 'freetime', 'goout',\n",
              "       'Dalc', 'Walc', 'health', 'failures.Math', 'absences.Math', 'G1.Math',\n",
              "       'failures.Port', 'absences.Port'],\n",
              "      dtype='object')"
            ]
          },
          "execution_count": 199,
          "metadata": {},
          "output_type": "execute_result"
        }
      ],
      "source": [
        "intG1Math_df = G1Math_df.select_dtypes(include='integer')\n",
        "intG1Math_df.columns"
      ]
    },
    {
      "cell_type": "markdown",
      "id": "c39c9ef9",
      "metadata": {},
      "source": [
        "we find the outliers and the Q1 , Q3 and compaire it with data and count how much of each independent variable out of this range and recognize and virtualized it . \n",
        "\n",
        "**absences.Port**"
      ]
    },
    {
      "cell_type": "code",
      "execution_count": 200,
      "id": "6593d828",
      "metadata": {
        "vscode": {
          "languageId": "python"
        }
      },
      "outputs": [
        {
          "data": {
            "image/png": "[encoded data removed]",
            "text/plain": [
              "<Figure size 1000x300 with 2 Axes>"
            ]
          },
          "metadata": {},
          "output_type": "display_data"
        }
      ],
      "source": [
        "plt.figure(figsize=(10,3))\n",
        "plt.subplot(121)\n",
        "plt.hist(np.array(G1Math_df['absences.Port']) , density=True , bins=50, edgecolor='black' ,facecolor='pink', alpha=0.75)\n",
        "plt.xlabel('Value', fontsize= 10)\n",
        "plt.ylabel('Frequency', fontsize= 10)\n",
        "plt.subplot(122)\n",
        "sns.boxplot(y ='absences.Port', data=G1Math_df,palette=\"Blues\")\n",
        "plt.xlabel('absences.Port')\n",
        "plt.show()"
      ]
    },
    {
      "cell_type": "code",
      "execution_count": 201,
      "id": "3798fd87",
      "metadata": {
        "vscode": {
          "languageId": "python"
        }
      },
      "outputs": [
        {
          "name": "stdout",
          "output_type": "stream",
          "text": [
            "Q1: 0.0\n",
            "Q3: 6.0\n",
            "IQR: 6.0\n",
            "Out1: -9.0\n",
            "Out2: 15.0\n"
          ]
        }
      ],
      "source": [
        "#calculate IQR and show thw outliers\n",
        "Q1 = G1Math_df['absences.Port'].quantile(0.25)\n",
        "Q3 = G1Math_df['absences.Port'].quantile(0.75)\n",
        "print(\"Q1:\",Q1)\n",
        "print(\"Q3:\",Q3)\n",
        "IQR = Q3 - Q1\n",
        "print(\"IQR:\",IQR)\n",
        "Out1=Q1 - 1.5 * IQR\n",
        "print(\"Out1:\",Out1)\n",
        "Out2=Q3 + 1.5 * IQR\n",
        "print(\"Out2:\",Out2)\n",
        "outliers_absences_Port = (df['absences.Port'] < Q1 - 1.5 * IQR) | (df['absences.Port'] > Q3 + 1.5 * IQR)\n",
        "# Filter the DataFrame to get the actual outlier values\n",
        "outliers_absences_Port  = G1Math_df.loc[outliers_absences_Port, 'absences.Port']\n",
        "# Display the outlier values\n",
        "#print(\"absences.Port :\", outliers_absences_Port)"
      ]
    },
    {
      "cell_type": "code",
      "execution_count": 202,
      "id": "35802109",
      "metadata": {
        "vscode": {
          "languageId": "python"
        }
      },
      "outputs": [
        {
          "data": {
            "text/plain": [
              "(48, 31)"
            ]
          },
          "execution_count": 202,
          "metadata": {},
          "output_type": "execute_result"
        }
      ],
      "source": [
        "# check the columns we can see outliers\n",
        "toll_df = G1Math_df.loc[df['absences.Port']>15]\n",
        "toll_df.shape"
      ]
    },
    {
      "cell_type": "markdown",
      "id": "ebb00358",
      "metadata": {},
      "source": [
        "*** famsup ***\n"
      ]
    },
    {
      "cell_type": "code",
      "execution_count": 203,
      "id": "9dde4a4a",
      "metadata": {
        "vscode": {
          "languageId": "python"
        }
      },
      "outputs": [
        {
          "data": {
            "image/png": "[encoded data removed]",
            "text/plain": [
              "<Figure size 800x600 with 1 Axes>"
            ]
          },
          "metadata": {},
          "output_type": "display_data"
        }
      ],
      "source": [
        "count_table = G1Math_df['famsup'].value_counts()\n",
        "plt.figure(figsize=(8, 6))\n",
        "count_table.plot(kind='bar', color='skyblue')\n",
        "plt.title('Distribution of famsup')\n",
        "plt.xlabel('famsup Categories')\n",
        "plt.ylabel('Count')\n",
        "plt.show()"
      ]
    },
    {
      "cell_type": "code",
      "execution_count": 204,
      "id": "a5b6087f",
      "metadata": {
        "vscode": {
          "languageId": "python"
        }
      },
      "outputs": [
        {
          "data": {
            "text/plain": [
              "famsup\n",
              "1    571\n",
              "0    377\n",
              "Name: count, dtype: int64"
            ]
          },
          "execution_count": 204,
          "metadata": {},
          "output_type": "execute_result"
        }
      ],
      "source": [
        "G1Math_df['famsup'].value_counts()"
      ]
    },
    {
      "cell_type": "markdown",
      "id": "50115930",
      "metadata": {},
      "source": [
        "*** Walc ***\n"
      ]
    },
    {
      "cell_type": "code",
      "execution_count": 205,
      "id": "9986f2b5",
      "metadata": {
        "vscode": {
          "languageId": "python"
        }
      },
      "outputs": [
        {
          "data": {
            "image/png": "[encoded data removed]",
            "text/plain": [
              "<Figure size 800x600 with 1 Axes>"
            ]
          },
          "metadata": {},
          "output_type": "display_data"
        }
      ],
      "source": [
        "count_table = G1Math_df['Walc'].value_counts()\n",
        "plt.figure(figsize=(8, 6))\n",
        "count_table.plot(kind='bar', color='skyblue')\n",
        "plt.title('Distribution of Walc')\n",
        "plt.xlabel('Walc Categories')\n",
        "plt.ylabel('Count')\n",
        "plt.show()"
      ]
    },
    {
      "cell_type": "code",
      "execution_count": 206,
      "id": "a896fde8",
      "metadata": {
        "vscode": {
          "languageId": "python"
        }
      },
      "outputs": [
        {
          "name": "stdout",
          "output_type": "stream",
          "text": [
            "Q1: 1.0\n",
            "Q3: 3.0\n",
            "IQR: 2.0\n",
            "Out1: -2.0\n",
            "Out2: 6.0\n",
            "Walc : Series([], Name: Walc, dtype: int64)\n"
          ]
        }
      ],
      "source": [
        "#calculate IQR and show thw outliers\n",
        "Q1 = G1Math_df['Walc'].quantile(0.25)\n",
        "Q3 = G1Math_df['Walc'].quantile(0.75)\n",
        "print(\"Q1:\",Q1)\n",
        "print(\"Q3:\",Q3)\n",
        "IQR = Q3 - Q1\n",
        "print(\"IQR:\",IQR)\n",
        "Out1=Q1 - 1.5 * IQR\n",
        "print(\"Out1:\",Out1)\n",
        "Out2=Q3 + 1.5 * IQR\n",
        "print(\"Out2:\",Out2)\n",
        "outliers_Walc = (G1Math_df['Walc'] < Q1 - 1.5 * IQR) | (G1Math_df['Walc'] > Q3 + 1.5 * IQR)\n",
        "# Filter the DataFrame to get the actual outlier values\n",
        "outliers_Walc  = G1Math_df.loc[outliers_Walc, 'Walc']\n",
        "# Display the outlier values\n",
        "print(\"Walc :\", outliers_Walc)"
      ]
    },
    {
      "cell_type": "code",
      "execution_count": 207,
      "id": "16a1beda",
      "metadata": {
        "vscode": {
          "languageId": "python"
        }
      },
      "outputs": [
        {
          "data": {
            "text/plain": [
              "(948, 31)"
            ]
          },
          "execution_count": 207,
          "metadata": {},
          "output_type": "execute_result"
        }
      ],
      "source": [
        "G1Math_df['Walc'].value_counts()\n",
        "G1Math_df.shape"
      ]
    },
    {
      "cell_type": "markdown",
      "id": "e5b05a89",
      "metadata": {},
      "source": [
        "*** failures.Port ***"
      ]
    },
    {
      "cell_type": "code",
      "execution_count": 208,
      "id": "c4df2900",
      "metadata": {
        "vscode": {
          "languageId": "python"
        }
      },
      "outputs": [
        {
          "data": {
            "image/png": "[encoded data removed]",
            "text/plain": [
              "<Figure size 800x600 with 1 Axes>"
            ]
          },
          "metadata": {},
          "output_type": "display_data"
        }
      ],
      "source": [
        "count_table = G1Math_df['failures.Port'].value_counts()\n",
        "plt.figure(figsize=(8, 6))\n",
        "count_table.plot(kind='bar', color='skyblue')\n",
        "plt.title('Distribution of failures.Port')\n",
        "plt.xlabel('failures.Port Categories')\n",
        "plt.ylabel('Count')\n",
        "plt.show()"
      ]
    },
    {
      "cell_type": "code",
      "execution_count": 209,
      "id": "849c6be4",
      "metadata": {
        "vscode": {
          "languageId": "python"
        }
      },
      "outputs": [
        {
          "data": {
            "image/png": "[encoded data removed]",
            "text/plain": [
              "<Figure size 1000x300 with 2 Axes>"
            ]
          },
          "metadata": {},
          "output_type": "display_data"
        }
      ],
      "source": [
        "plt.figure(figsize=(10,3))\n",
        "plt.subplot(121)\n",
        "plt.hist(np.array(G1Math_df['failures.Port']) , density=True , bins=50, edgecolor='black' ,facecolor='pink', alpha=0.75)\n",
        "plt.xlabel('Value', fontsize= 10)\n",
        "plt.ylabel('Frequency', fontsize= 10)\n",
        "plt.subplot(122)\n",
        "sns.boxplot(y ='Walc', data=G1Math_df,palette=\"Blues\")\n",
        "plt.xlabel('failures.Port')\n",
        "plt.show()"
      ]
    },
    {
      "cell_type": "code",
      "execution_count": 210,
      "id": "a8b0a60e",
      "metadata": {
        "vscode": {
          "languageId": "python"
        }
      },
      "outputs": [
        {
          "name": "stdout",
          "output_type": "stream",
          "text": [
            "Q1: 0.0\n",
            "Q3: 0.0\n",
            "IQR: 0.0\n",
            "Out1: 0.0\n",
            "Out2: 0.0\n"
          ]
        }
      ],
      "source": [
        "#calculate IQR and show thw outliers\n",
        "Q1 = G1Math_df['failures.Port'].quantile(0.25)\n",
        "Q3 = G1Math_df['failures.Port'].quantile(0.75)\n",
        "print(\"Q1:\",Q1)\n",
        "print(\"Q3:\",Q3)\n",
        "IQR = Q3 - Q1\n",
        "print(\"IQR:\",IQR)\n",
        "Out1=Q1 - 1.5 * IQR\n",
        "print(\"Out1:\",Out1)\n",
        "Out2=Q3 + 1.5 * IQR\n",
        "print(\"Out2:\",Out2)\n",
        "outliers_failures_Port = (G1Math_df['failures.Port'] < Q1 - 1.5 * IQR) | (G1Math_df['failures.Port'] > Q3 + 1.5 * IQR)\n",
        "# Filter the DataFrame to get the actual outlier values\n",
        "outliers_failures_Port = G1Math_df.loc[outliers_failures_Port, 'failures.Port']\n",
        "# Display the outlier values\n",
        "#print(\"failures.Port :\", outliers_failures_Port)"
      ]
    },
    {
      "cell_type": "markdown",
      "id": "4ff624db",
      "metadata": {},
      "source": [
        "*** studytime ***"
      ]
    },
    {
      "cell_type": "code",
      "execution_count": 211,
      "id": "c66a5eb5",
      "metadata": {
        "vscode": {
          "languageId": "python"
        }
      },
      "outputs": [
        {
          "data": {
            "image/png": "[encoded data removed]",
            "text/plain": [
              "<Figure size 800x600 with 1 Axes>"
            ]
          },
          "metadata": {},
          "output_type": "display_data"
        }
      ],
      "source": [
        "count_table = G1Math_df['studytime'].value_counts()\n",
        "plt.figure(figsize=(8, 6))\n",
        "count_table.plot(kind='bar', color='skyblue')\n",
        "plt.title('Distribution of studytime')\n",
        "plt.xlabel('studytime Categories')\n",
        "plt.ylabel('Count')\n",
        "plt.show()"
      ]
    },
    {
      "cell_type": "code",
      "execution_count": 212,
      "id": "6779c226",
      "metadata": {
        "vscode": {
          "languageId": "python"
        }
      },
      "outputs": [
        {
          "data": {
            "image/png": "[encoded data removed]",
            "text/plain": [
              "<Figure size 1000x300 with 2 Axes>"
            ]
          },
          "metadata": {},
          "output_type": "display_data"
        }
      ],
      "source": [
        "plt.figure(figsize=(10,3))\n",
        "plt.subplot(121)\n",
        "plt.hist(np.array(G1Math_df['studytime']) , density=True , bins=50, edgecolor='black' ,facecolor='pink', alpha=0.75)\n",
        "plt.xlabel('Value', fontsize= 10)\n",
        "plt.ylabel('Frequency', fontsize= 10)\n",
        "plt.subplot(122)\n",
        "sns.boxplot(y ='Walc', data=G1Math_df,palette=\"Blues\")\n",
        "plt.xlabel('studytime')\n",
        "plt.show()"
      ]
    },
    {
      "cell_type": "code",
      "execution_count": 213,
      "id": "2bbcf435",
      "metadata": {
        "vscode": {
          "languageId": "python"
        }
      },
      "outputs": [
        {
          "name": "stdout",
          "output_type": "stream",
          "text": [
            "Q1: 1.0\n",
            "Q3: 2.0\n",
            "IQR: 1.0\n",
            "Out1: -0.5\n",
            "Out2: 3.5\n"
          ]
        }
      ],
      "source": [
        "#calculate IQR and show thw outliers\n",
        "Q1 = G1Math_df['studytime'].quantile(0.25)\n",
        "Q3 = G1Math_df['studytime'].quantile(0.75)\n",
        "print(\"Q1:\",Q1)\n",
        "print(\"Q3:\",Q3)\n",
        "IQR = Q3 - Q1\n",
        "print(\"IQR:\",IQR)\n",
        "Out1=Q1 - 1.5 * IQR\n",
        "print(\"Out1:\",Out1)\n",
        "Out2=Q3 + 1.5 * IQR\n",
        "print(\"Out2:\",Out2)\n",
        "outliers_studytime = (G1Math_df['studytime'] < Q1 - 1.5 * IQR) | (G1Math_df['studytime'] > Q3 + 1.5 * IQR)\n",
        "# Filter the DataFrame to get the actual outlier values\n",
        "outliers_studytime = G1Math_df.loc[outliers_studytime, 'studytime']\n",
        "# Display the outlier values\n",
        "#print(\"failures.Port :\", outliers_studytime)"
      ]
    },
    {
      "cell_type": "code",
      "execution_count": 214,
      "id": "50fc6f6c",
      "metadata": {
        "vscode": {
          "languageId": "python"
        }
      },
      "outputs": [
        {
          "data": {
            "text/plain": [
              "(948, 31)"
            ]
          },
          "execution_count": 214,
          "metadata": {},
          "output_type": "execute_result"
        }
      ],
      "source": [
        "# check the columns we can see outliers\n",
        "toll3= G1Math_df.loc[df['studytime']<3.5]\n",
        "toll1 = G1Math_df.loc[df['studytime']>1]\n",
        "G1Math_df.shape"
      ]
    },
    {
      "cell_type": "code",
      "execution_count": 215,
      "id": "5e1c8241",
      "metadata": {
        "vscode": {
          "languageId": "python"
        }
      },
      "outputs": [
        {
          "data": {
            "text/plain": [
              "studytime\n",
              "2    475\n",
              "1    253\n",
              "3    160\n",
              "4     60\n",
              "Name: count, dtype: int64"
            ]
          },
          "execution_count": 215,
          "metadata": {},
          "output_type": "execute_result"
        }
      ],
      "source": [
        "G1Math_df['studytime'].value_counts()"
      ]
    },
    {
      "cell_type": "markdown",
      "id": "0cc5ed90",
      "metadata": {},
      "source": [
        "*** famrel ***"
      ]
    },
    {
      "cell_type": "code",
      "execution_count": 216,
      "id": "8adddfc2",
      "metadata": {
        "vscode": {
          "languageId": "python"
        }
      },
      "outputs": [
        {
          "data": {
            "image/png": "[encoded data removed]",
            "text/plain": [
              "<Figure size 800x600 with 1 Axes>"
            ]
          },
          "metadata": {},
          "output_type": "display_data"
        }
      ],
      "source": [
        "count_table = G1Math_df['famrel'].value_counts()\n",
        "plt.figure(figsize=(8, 6))\n",
        "count_table.plot(kind='bar', color='skyblue')\n",
        "plt.title('Distribution of famrel')\n",
        "plt.xlabel('famrel Categories')\n",
        "plt.ylabel('Count')\n",
        "plt.show()"
      ]
    },
    {
      "cell_type": "code",
      "execution_count": 217,
      "id": "65a85bb4",
      "metadata": {
        "vscode": {
          "languageId": "python"
        }
      },
      "outputs": [
        {
          "data": {
            "image/png": "[encoded data removed]",
            "text/plain": [
              "<Figure size 1000x300 with 2 Axes>"
            ]
          },
          "metadata": {},
          "output_type": "display_data"
        }
      ],
      "source": [
        "plt.figure(figsize=(10,3))\n",
        "plt.subplot(121)\n",
        "plt.hist(np.array(G1Math_df['famrel']) , density=True , bins=50, edgecolor='black' ,facecolor='pink', alpha=0.75)\n",
        "plt.xlabel('Value', fontsize= 10)\n",
        "plt.ylabel('Frequency', fontsize= 10)\n",
        "plt.subplot(122)\n",
        "sns.boxplot(y ='famrel', data=G1Math_df,palette=\"Blues\")\n",
        "plt.xlabel('famrel')\n",
        "plt.show()"
      ]
    },
    {
      "cell_type": "code",
      "execution_count": 218,
      "id": "c331f74a",
      "metadata": {
        "vscode": {
          "languageId": "python"
        }
      },
      "outputs": [
        {
          "name": "stdout",
          "output_type": "stream",
          "text": [
            "Q1: 4.0\n",
            "Q3: 5.0\n",
            "IQR: 1.0\n",
            "Out1: 2.5\n",
            "Out2: 6.5\n"
          ]
        }
      ],
      "source": [
        "#calculate IQR and show thw outliers\n",
        "Q1 = G1Math_df['famrel'].quantile(0.25)\n",
        "Q3 = G1Math_df['famrel'].quantile(0.75)\n",
        "print(\"Q1:\",Q1)\n",
        "print(\"Q3:\",Q3)\n",
        "IQR = Q3 - Q1\n",
        "print(\"IQR:\",IQR)\n",
        "Out1=Q1 - 1.5 * IQR\n",
        "print(\"Out1:\",Out1)\n",
        "Out2=Q3 + 1.5 * IQR\n",
        "print(\"Out2:\",Out2)\n",
        "outliers_famrel = (G1Math_df['famrel'] < Q1 - 1.5 * IQR) | (G1Math_df['famrel'] > Q3 + 1.5 * IQR)\n",
        "# Filter the DataFrame to get the actual outlier values\n",
        "outliers_famrel  = G1Math_df.loc[outliers_famrel, 'famrel']\n",
        "# Display the outlier values\n",
        "#print(\"famrel :\", outliers_famrel)"
      ]
    },
    {
      "cell_type": "code",
      "execution_count": 219,
      "id": "38d4edee",
      "metadata": {
        "vscode": {
          "languageId": "python"
        }
      },
      "outputs": [
        {
          "data": {
            "text/plain": [
              "(0, 31)"
            ]
          },
          "execution_count": 219,
          "metadata": {},
          "output_type": "execute_result"
        }
      ],
      "source": [
        "# check the columns we can see outliers\n",
        "toll = G1Math_df.loc[G1Math_df['famrel']>6.5]\n",
        "toll.shape"
      ]
    },
    {
      "cell_type": "markdown",
      "id": "74b5ae7a",
      "metadata": {},
      "source": [
        "** G1.Math** "
      ]
    },
    {
      "cell_type": "code",
      "execution_count": 220,
      "id": "41d33c4b",
      "metadata": {
        "vscode": {
          "languageId": "python"
        }
      },
      "outputs": [
        {
          "data": {
            "image/png": "[encoded data removed]",
            "text/plain": [
              "<Figure size 1000x300 with 2 Axes>"
            ]
          },
          "metadata": {},
          "output_type": "display_data"
        }
      ],
      "source": [
        "plt.figure(figsize=(10,3))\n",
        "plt.subplot(121)\n",
        "plt.hist(np.array(G1Math_df['G1.Math']) , density=True , bins=50, edgecolor='black' ,facecolor='pink', alpha=0.75)\n",
        "plt.xlabel('Value', fontsize= 10)\n",
        "plt.ylabel('Frequency', fontsize= 10)\n",
        "plt.subplot(122)\n",
        "sns.boxplot(y ='G1.Math', data=df,palette=\"Blues\")\n",
        "plt.xlabel('G1.Math')\n",
        "plt.show()"
      ]
    },
    {
      "cell_type": "code",
      "execution_count": 221,
      "id": "e581c453",
      "metadata": {
        "vscode": {
          "languageId": "python"
        }
      },
      "outputs": [
        {
          "name": "stdout",
          "output_type": "stream",
          "text": [
            "Q1: 8.0\n",
            "Q3: 13.0\n",
            "IQR: 5.0\n",
            "Out1: 0.5\n",
            "Out2: 20.5\n"
          ]
        }
      ],
      "source": [
        "#calculate IQR and show thw outliers\n",
        "Q1 = G1Math_df['G1.Math'].quantile(0.25)\n",
        "Q3 = G1Math_df['G1.Math'].quantile(0.75)\n",
        "print(\"Q1:\",Q1)\n",
        "print(\"Q3:\",Q3)\n",
        "IQR = Q3 - Q1\n",
        "print(\"IQR:\",IQR)\n",
        "Out1=Q1 - 1.5 * IQR\n",
        "print(\"Out1:\",Out1)\n",
        "Out2=Q3 + 1.5 * IQR\n",
        "print(\"Out2:\",Out2)\n",
        "outliers_famrel = (G1Math_df['G1.Math'] < Q1 - 1.5 * IQR) | (G1Math_df['G1.Math'] > Q3 + 1.5 * IQR)\n",
        "# Filter the DataFrame to get the actual outlier values\n",
        "outliers_famrel  = G1Math_df.loc[outliers_famrel, 'G1.Math']\n",
        "# Display the outlier values\n",
        "#print(\"famrel :\", outliers_famrel)"
      ]
    },
    {
      "cell_type": "code",
      "execution_count": 222,
      "id": "13101c94",
      "metadata": {
        "vscode": {
          "languageId": "python"
        }
      },
      "outputs": [
        {
          "data": {
            "text/plain": [
              "(0, 31)"
            ]
          },
          "execution_count": 222,
          "metadata": {},
          "output_type": "execute_result"
        }
      ],
      "source": [
        "# check the columns we can see outliers\n",
        "toll= G1Math_df.loc[df['G1.Math']>23]\n",
        "toll.shape"
      ]
    },
    {
      "cell_type": "markdown",
      "id": "ec142489",
      "metadata": {},
      "source": [
        "Dummy variables\n",
        "\n",
        "If we have categorical variables, and we want to fit a linear or logistic regression model, we need to change our categorical variables into dummy variables (using get_dummies or OneHotEncoder).\n",
        "for finding the corrolation the independent variable should be integer so this step we can check the variables are integer, "
      ]
    },
    {
      "cell_type": "code",
      "execution_count": 223,
      "id": "c285955f",
      "metadata": {
        "vscode": {
          "languageId": "python"
        }
      },
      "outputs": [
        {
          "data": {
            "text/plain": [
              "Index(['traveltime', 'studytime', 'famsup', 'famrel', 'freetime', 'goout',\n",
              "       'Dalc', 'Walc', 'health', 'failures.Math', 'absences.Math', 'G1.Math',\n",
              "       'failures.Port', 'absences.Port'],\n",
              "      dtype='object')"
            ]
          },
          "execution_count": 223,
          "metadata": {},
          "output_type": "execute_result"
        }
      ],
      "source": [
        "intG1Math_df = G1Math_df.select_dtypes(include='integer')\n",
        "intG1Math_df.columns"
      ]
    },
    {
      "cell_type": "code",
      "execution_count": 224,
      "id": "bbbd8665",
      "metadata": {
        "vscode": {
          "languageId": "python"
        }
      },
      "outputs": [
        {
          "data": {
            "text/plain": [
              "G1.Math          1.000000\n",
              "studytime        0.135777\n",
              "famrel           0.037323\n",
              "freetime         0.010579\n",
              "health          -0.041466\n",
              "Dalc            -0.049786\n",
              "absences.Math   -0.064626\n",
              "Walc            -0.066664\n",
              "famsup          -0.070687\n",
              "traveltime      -0.077825\n",
              "failures.Port   -0.109396\n",
              "goout           -0.132199\n",
              "absences.Port   -0.174703\n",
              "failures.Math   -0.408430\n",
              "Name: G1.Math, dtype: float64"
            ]
          },
          "execution_count": 224,
          "metadata": {},
          "output_type": "execute_result"
        }
      ],
      "source": [
        "# Checking the linear correlation of variables\n",
        "df2=G1Math_df[[ \n",
        "'traveltime', 'studytime', 'famsup', 'famrel', 'freetime', 'goout',\n",
        "       'Dalc', 'Walc', 'health', 'failures.Math', 'absences.Math', 'G1.Math',\n",
        "       'failures.Port', 'absences.Port']]\n",
        "corr_matrix = df2.corr()\n",
        "corr_matrix['G1.Math'].sort_values(ascending = False)"
      ]
    },
    {
      "cell_type": "markdown",
      "id": "aca33bfb",
      "metadata": {},
      "source": [
        "before creating dummy variable betwen the variables there are study time with corrolation 0.13 and failours.math :-0,40 and absences.port -0.17  is better the others are integer variables. \n",
        "in this step we can drop the other coloumns for managing beter ( we dont drop this columns becouse in the task say that famrel,Walc ,famsup,traveltime,failures.Port,absences.Port)"
      ]
    },
    {
      "cell_type": "code",
      "execution_count": 225,
      "id": "17fc4aae",
      "metadata": {
        "vscode": {
          "languageId": "python"
        }
      },
      "outputs": [],
      "source": [
        "G1Math_df = G1Math_df.drop([ 'freetime','health','Dalc','absences.Math','traveltime','goout'],axis=1)"
      ]
    },
    {
      "cell_type": "code",
      "execution_count": 226,
      "id": "86a903d9",
      "metadata": {
        "vscode": {
          "languageId": "python"
        }
      },
      "outputs": [
        {
          "data": {
            "text/plain": [
              "(948, 25)"
            ]
          },
          "execution_count": 226,
          "metadata": {},
          "output_type": "execute_result"
        }
      ],
      "source": [
        "G1Math_df.columns\n",
        "G1Math_df.shape"
      ]
    },
    {
      "cell_type": "markdown",
      "id": "5f67a854",
      "metadata": {},
      "source": [
        "this step we have 25 independent variables at the first we have 40 variables . \n",
        "\n",
        "the type of the categorical variables are object: \n",
        "1-school"
      ]
    },
    {
      "cell_type": "code",
      "execution_count": 227,
      "id": "25a8dd7c",
      "metadata": {
        "vscode": {
          "languageId": "python"
        }
      },
      "outputs": [],
      "source": [
        "\"\"\"One_hot encoding for ''school'' \"\"\"\n",
        "G1Math_df= pd.get_dummies(G1Math_df, columns = ['school'])"
      ]
    },
    {
      "cell_type": "markdown",
      "id": "71176301",
      "metadata": {},
      "source": [
        "2-sex, "
      ]
    },
    {
      "cell_type": "code",
      "execution_count": 228,
      "id": "02b88bda",
      "metadata": {
        "vscode": {
          "languageId": "python"
        }
      },
      "outputs": [],
      "source": [
        "\"\"\"One_hot encoding for 'Sex(Gender)' \"\"\"\n",
        "G1Math_df = pd.get_dummies(G1Math_df, columns = ['sex'])"
      ]
    },
    {
      "cell_type": "markdown",
      "id": "2886d39e",
      "metadata": {},
      "source": [
        "3-address"
      ]
    },
    {
      "cell_type": "code",
      "execution_count": 229,
      "id": "4339a77c",
      "metadata": {
        "vscode": {
          "languageId": "python"
        }
      },
      "outputs": [],
      "source": [
        "\"\"\"One_hot encoding for 'address' \"\"\"\n",
        "G1Math_df = pd.get_dummies(G1Math_df, columns = ['address'])"
      ]
    },
    {
      "cell_type": "markdown",
      "id": "76bad263",
      "metadata": {},
      "source": [
        "4- famsize"
      ]
    },
    {
      "cell_type": "code",
      "execution_count": 230,
      "id": "37381860",
      "metadata": {
        "vscode": {
          "languageId": "python"
        }
      },
      "outputs": [],
      "source": [
        "\"\"\"One_hot encoding for 'famsize' \"\"\"\n",
        "G1Math_df = pd.get_dummies(G1Math_df, columns = ['famsize'])"
      ]
    },
    {
      "cell_type": "markdown",
      "id": "d3880050",
      "metadata": {},
      "source": [
        "5- Pstatus"
      ]
    },
    {
      "cell_type": "code",
      "execution_count": 231,
      "id": "2a1784ce",
      "metadata": {
        "vscode": {
          "languageId": "python"
        }
      },
      "outputs": [],
      "source": [
        "\"\"\"One_hot encoding for 'Pstatus' \"\"\"\n",
        "G1Math_df = pd.get_dummies(G1Math_df, columns = ['Pstatus'])"
      ]
    },
    {
      "cell_type": "markdown",
      "id": "9b53ed56",
      "metadata": {},
      "source": [
        "6- Mjob"
      ]
    },
    {
      "cell_type": "code",
      "execution_count": 232,
      "id": "18189306",
      "metadata": {
        "vscode": {
          "languageId": "python"
        }
      },
      "outputs": [],
      "source": [
        "\"\"\"One_hot encoding for 'Mjob' \"\"\"\n",
        "G1Math_df = pd.get_dummies(G1Math_df, columns = ['Mjob'])"
      ]
    },
    {
      "cell_type": "markdown",
      "id": "1f5ad975",
      "metadata": {},
      "source": [
        "7- 'Fjob'"
      ]
    },
    {
      "cell_type": "code",
      "execution_count": 233,
      "id": "80b93294",
      "metadata": {
        "vscode": {
          "languageId": "python"
        }
      },
      "outputs": [],
      "source": [
        "\"\"\"One_hot encoding for 'Fjob' \"\"\"\n",
        "G1Math_df = pd.get_dummies(G1Math_df, columns = ['Fjob'])"
      ]
    },
    {
      "cell_type": "markdown",
      "id": "91e1d4fe",
      "metadata": {},
      "source": [
        "8- 'reason'"
      ]
    },
    {
      "cell_type": "code",
      "execution_count": 234,
      "id": "48e4c349",
      "metadata": {
        "vscode": {
          "languageId": "python"
        }
      },
      "outputs": [],
      "source": [
        "\"\"\"One_hot encoding for 'reason' \"\"\"\n",
        "G1Math_df= pd.get_dummies(G1Math_df, columns = ['reason'])"
      ]
    },
    {
      "cell_type": "markdown",
      "id": "7181ec73",
      "metadata": {},
      "source": [
        "9- 'guardian'\n"
      ]
    },
    {
      "cell_type": "code",
      "execution_count": 235,
      "id": "a712a30b",
      "metadata": {
        "vscode": {
          "languageId": "python"
        }
      },
      "outputs": [],
      "source": [
        "\"\"\"One_hot encoding for 'guardian' \"\"\"\n",
        "G1Math_df = pd.get_dummies(G1Math_df, columns = ['guardian'])"
      ]
    },
    {
      "cell_type": "markdown",
      "id": "83689251",
      "metadata": {},
      "source": [
        "10- 'schoolsup'"
      ]
    },
    {
      "cell_type": "code",
      "execution_count": 236,
      "id": "fdf396bc",
      "metadata": {
        "vscode": {
          "languageId": "python"
        }
      },
      "outputs": [],
      "source": [
        "\"\"\"One_hot encoding for 'schoolsup' \"\"\"\n",
        "G1Math_df = pd.get_dummies(G1Math_df, columns = ['schoolsup'])"
      ]
    },
    {
      "cell_type": "markdown",
      "id": "15ba224e",
      "metadata": {},
      "source": [
        "11- 'activities'"
      ]
    },
    {
      "cell_type": "code",
      "execution_count": 237,
      "id": "a3c54c2a",
      "metadata": {
        "vscode": {
          "languageId": "python"
        }
      },
      "outputs": [],
      "source": [
        "\"\"\"One_hot encoding for 'activities' \"\"\"\n",
        "G1Math_df = pd.get_dummies(G1Math_df, columns = ['activities'])"
      ]
    },
    {
      "cell_type": "markdown",
      "id": "2f39188e",
      "metadata": {},
      "source": [
        "12-'nursery'"
      ]
    },
    {
      "cell_type": "code",
      "execution_count": 238,
      "id": "9f01db5b",
      "metadata": {
        "vscode": {
          "languageId": "python"
        }
      },
      "outputs": [],
      "source": [
        "\"\"\"One_hot encoding for 'nursery' \"\"\"\n",
        "G1Math_df = pd.get_dummies(G1Math_df, columns = ['nursery'])"
      ]
    },
    {
      "cell_type": "markdown",
      "id": "0710a43e",
      "metadata": {},
      "source": [
        "13- 'higher'\n"
      ]
    },
    {
      "cell_type": "code",
      "execution_count": 239,
      "id": "14a1d8a5",
      "metadata": {
        "vscode": {
          "languageId": "python"
        }
      },
      "outputs": [],
      "source": [
        "\"\"\"One_hot encoding for 'higher' \"\"\"\n",
        "G1Math_df = pd.get_dummies(G1Math_df, columns = ['higher'])"
      ]
    },
    {
      "cell_type": "markdown",
      "id": "ff080447",
      "metadata": {},
      "source": [
        "14- 'internet'\n"
      ]
    },
    {
      "cell_type": "code",
      "execution_count": 240,
      "id": "a152d4d3",
      "metadata": {
        "vscode": {
          "languageId": "python"
        }
      },
      "outputs": [],
      "source": [
        "\"\"\"One_hot encoding for 'internet' \"\"\"\n",
        "G1Math_df = pd.get_dummies(G1Math_df, columns = ['internet'])"
      ]
    },
    {
      "cell_type": "markdown",
      "id": "ad2a8c6e",
      "metadata": {},
      "source": [
        "15-'romantic'\n"
      ]
    },
    {
      "cell_type": "code",
      "execution_count": 241,
      "id": "9cae2d3f",
      "metadata": {
        "vscode": {
          "languageId": "python"
        }
      },
      "outputs": [],
      "source": [
        "\"\"\"One_hot encoding for 'romantic' \"\"\"\n",
        "G1Math_df = pd.get_dummies(G1Math_df, columns = ['romantic'])"
      ]
    },
    {
      "cell_type": "markdown",
      "id": "509ad3b3",
      "metadata": {},
      "source": [
        "16-paid.Math\n"
      ]
    },
    {
      "cell_type": "code",
      "execution_count": 242,
      "id": "c59ea7cb",
      "metadata": {
        "vscode": {
          "languageId": "python"
        }
      },
      "outputs": [],
      "source": [
        "\"\"\"One_hot encoding for paid.Math \"\"\"\n",
        "G1Math_df = pd.get_dummies(G1Math_df, columns = ['paid.Math'])"
      ]
    },
    {
      "cell_type": "markdown",
      "id": "2825b33c",
      "metadata": {},
      "source": [
        "17- paid.Port\n"
      ]
    },
    {
      "cell_type": "code",
      "execution_count": 243,
      "id": "52fc7038",
      "metadata": {
        "vscode": {
          "languageId": "python"
        }
      },
      "outputs": [],
      "source": [
        "\"\"\"One_hot encoding for 'paid.Port' \"\"\"\n",
        "G1Math_df = pd.get_dummies(G1Math_df, columns = ['paid.Port'])"
      ]
    },
    {
      "cell_type": "code",
      "execution_count": 244,
      "id": "8e7be59b",
      "metadata": {
        "vscode": {
          "languageId": "python"
        }
      },
      "outputs": [
        {
          "data": {
            "text/plain": [
              "(948, 51)"
            ]
          },
          "execution_count": 244,
          "metadata": {},
          "output_type": "execute_result"
        }
      ],
      "source": [
        "#G1Math_df.dtypes\n",
        "#G1Math_df.info()\n",
        "#G1Math_df.columns\n",
        "G1Math_df.shape"
      ]
    },
    {
      "cell_type": "markdown",
      "id": "ba70c69a",
      "metadata": {},
      "source": [
        "after dummy variable we have 51 columns and the type of them are boolian and again for getting correlation we should be convert them to integer . \n"
      ]
    },
    {
      "cell_type": "code",
      "execution_count": 245,
      "id": "a84db06b",
      "metadata": {
        "vscode": {
          "languageId": "python"
        }
      },
      "outputs": [],
      "source": [
        "\"\"\"Converting 'Object' and 'Boolean' Datatype into int\"\"\"\n",
        "cat_columns = ['sex_F', 'sex_M', 'school_GP',\n",
        "       'school_MS', 'address_R', 'address_U', 'famsize_GT3', 'famsize_LE3',\n",
        "       'Pstatus_A', 'Pstatus_T', 'Mjob_at_home', 'Mjob_health', 'Mjob_other',\n",
        "       'Mjob_services', 'Mjob_teacher', 'Fjob_at_home', 'Fjob_health',\n",
        "       'Fjob_other', 'Fjob_services', 'Fjob_teacher', 'reason_course',\n",
        "       'reason_home', 'reason_other', 'reason_reputation', 'guardian_father',\n",
        "       'guardian_mother', 'guardian_other', 'schoolsup_no', 'schoolsup_yes',\n",
        "       'activities_no', 'activities_yes', 'nursery_no', 'nursery_yes',\n",
        "       'higher_no', 'higher_yes', 'internet_no', 'internet_yes', 'romantic_no',\n",
        "       'romantic_yes', 'paid.Math_no', 'paid.Math_yes', 'paid.Port_no',\n",
        "       'paid.Port_yes']\n",
        "G1Math_df[cat_columns] = G1Math_df[cat_columns].astype(int)"
      ]
    },
    {
      "cell_type": "code",
      "execution_count": 246,
      "id": "36a981de",
      "metadata": {
        "vscode": {
          "languageId": "python"
        }
      },
      "outputs": [
        {
          "data": {
            "text/plain": [
              "Index(['studytime', 'famsup', 'famrel', 'Walc', 'failures.Math', 'G1.Math',\n",
              "       'failures.Port', 'absences.Port', 'school_GP', 'school_MS', 'sex_F',\n",
              "       'sex_M', 'address_R', 'address_U', 'famsize_GT3', 'famsize_LE3',\n",
              "       'Pstatus_A', 'Pstatus_T', 'Mjob_at_home', 'Mjob_health', 'Mjob_other',\n",
              "       'Mjob_services', 'Mjob_teacher', 'Fjob_at_home', 'Fjob_health',\n",
              "       'Fjob_other', 'Fjob_services', 'Fjob_teacher', 'reason_course',\n",
              "       'reason_home', 'reason_other', 'reason_reputation', 'guardian_father',\n",
              "       'guardian_mother', 'guardian_other', 'schoolsup_no', 'schoolsup_yes',\n",
              "       'activities_no', 'activities_yes', 'nursery_no', 'nursery_yes',\n",
              "       'higher_no', 'higher_yes', 'internet_no', 'internet_yes', 'romantic_no',\n",
              "       'romantic_yes', 'paid.Math_no', 'paid.Math_yes', 'paid.Port_no',\n",
              "       'paid.Port_yes'],\n",
              "      dtype='object')"
            ]
          },
          "execution_count": 246,
          "metadata": {},
          "output_type": "execute_result"
        }
      ],
      "source": [
        "G1Math_df.columns\n",
        "#G1Math_df.info()\n",
        "#G1Math_df.shape"
      ]
    },
    {
      "cell_type": "code",
      "execution_count": 247,
      "id": "b66d06a3",
      "metadata": {
        "vscode": {
          "languageId": "python"
        }
      },
      "outputs": [
        {
          "data": {
            "text/plain": [
              "G1.Math              1.000000\n",
              "higher_yes           0.238948\n",
              "sex_M                0.172840\n",
              "Fjob_teacher         0.171032\n",
              "schoolsup_no         0.168868\n",
              "famsize_LE3          0.141276\n",
              "Mjob_services        0.139865\n",
              "nursery_yes          0.137406\n",
              "studytime            0.135777\n",
              "Mjob_teacher         0.126588\n",
              "Fjob_at_home         0.119396\n",
              "address_U            0.100673\n",
              "Mjob_health          0.090134\n",
              "romantic_no          0.083081\n",
              "paid.Math_yes        0.054597\n",
              "activities_yes       0.050150\n",
              "paid.Port_no         0.046872\n",
              "guardian_mother      0.039741\n",
              "famrel               0.037323\n",
              "guardian_father      0.032352\n",
              "internet_yes         0.028313\n",
              "reason_home          0.015571\n",
              "Fjob_health          0.013716\n",
              "reason_reputation    0.013310\n",
              "Fjob_services        0.012592\n",
              "school_GP            0.004570\n",
              "Pstatus_T            0.002447\n",
              "Pstatus_A           -0.002447\n",
              "reason_other        -0.002840\n",
              "school_MS           -0.004570\n",
              "reason_course       -0.025761\n",
              "internet_no         -0.028313\n",
              "paid.Port_yes       -0.046872\n",
              "activities_no       -0.050150\n",
              "paid.Math_no        -0.054597\n",
              "Walc                -0.066664\n",
              "famsup              -0.070687\n",
              "romantic_yes        -0.083081\n",
              "address_R           -0.100673\n",
              "Mjob_at_home        -0.109026\n",
              "failures.Port       -0.109396\n",
              "nursery_no          -0.137406\n",
              "famsize_GT3         -0.141276\n",
              "guardian_other      -0.144799\n",
              "Fjob_other          -0.155950\n",
              "schoolsup_yes       -0.168868\n",
              "sex_F               -0.172840\n",
              "absences.Port       -0.174703\n",
              "Mjob_other          -0.195658\n",
              "higher_no           -0.238948\n",
              "failures.Math       -0.408430\n",
              "Name: G1.Math, dtype: float64"
            ]
          },
          "execution_count": 247,
          "metadata": {},
          "output_type": "execute_result"
        }
      ],
      "source": [
        "# Checking the linear correlation of variables\n",
        "df2=G1Math_df[['studytime', 'famsup', 'famrel', 'Walc', 'failures.Math', 'G1.Math',\n",
        "       'failures.Port', 'absences.Port', 'school_GP', 'school_MS', 'sex_F',\n",
        "       'sex_M', 'address_R', 'address_U', 'famsize_GT3', 'famsize_LE3',\n",
        "       'Pstatus_A', 'Pstatus_T', 'Mjob_at_home', 'Mjob_health', 'Mjob_other',\n",
        "       'Mjob_services', 'Mjob_teacher', 'Fjob_at_home', 'Fjob_health',\n",
        "       'Fjob_other', 'Fjob_services', 'Fjob_teacher', 'reason_course',\n",
        "       'reason_home', 'reason_other', 'reason_reputation', 'guardian_father',\n",
        "       'guardian_mother', 'guardian_other', 'schoolsup_no', 'schoolsup_yes',\n",
        "       'activities_no', 'activities_yes', 'nursery_no', 'nursery_yes',\n",
        "       'higher_no', 'higher_yes', 'internet_no', 'internet_yes', 'romantic_no',\n",
        "       'romantic_yes', 'paid.Math_no', 'paid.Math_yes', 'paid.Port_no',\n",
        "       'paid.Port_yes']]\n",
        "corr_matrix = df2.corr()\n",
        "corr_matrix['G1.Math'].sort_values(ascending = False)"
      ]
    },
    {
      "cell_type": "markdown",
      "id": "761e53e6",
      "metadata": {},
      "source": [
        "so fo this correlation we only use failers.math and heigher_yes/heigher_no , and he other coloumns we need for them . "
      ]
    },
    {
      "cell_type": "code",
      "execution_count": 248,
      "id": "df572b2c",
      "metadata": {
        "vscode": {
          "languageId": "python"
        }
      },
      "outputs": [
        {
          "name": "stdout",
          "output_type": "stream",
          "text": [
            "     G1.Math  absences.Port  famsup  Walc  failures.Port  famrel  higher_yes  \\\n",
            "0         11              0       1     2              0       3           1   \n",
            "1          6              0       0     3              1       5           1   \n",
            "2          9              4       1     2              0       2           1   \n",
            "3          9             14       1     4              1       5           1   \n",
            "4          8              2       1     4              0       3           1   \n",
            "..       ...            ...     ...   ...            ...     ...         ...   \n",
            "943       12              8       1     2              0       1           1   \n",
            "944       15              0       1     2              0       4           1   \n",
            "945       19              0       1     1              0       4           1   \n",
            "946       12              0       0     1              0       4           1   \n",
            "947        9              0       0     2              0       4           1   \n",
            "\n",
            "     failures.Math  studytime  \n",
            "0                0          1  \n",
            "1                1          1  \n",
            "2                2          1  \n",
            "3                1          2  \n",
            "4                2          2  \n",
            "..             ...        ...  \n",
            "943              0          2  \n",
            "944              0          3  \n",
            "945              0          2  \n",
            "946              0          2  \n",
            "947              0          3  \n",
            "\n",
            "[948 rows x 9 columns]\n"
          ]
        }
      ],
      "source": [
        "# Specify the columns you want to keep\n",
        "selected_columns = ['G1.Math','absences.Port', 'famsup', 'Walc','failures.Port','famrel', 'higher_yes','failures.Math','studytime']\n",
        "\n",
        "# Create a new DataFrame with only the selected columns\n",
        "G1Math_df2 = G1Math_df[selected_columns]\n",
        "\n",
        "# Display the new DataFrame\n",
        "print(G1Math_df2)"
      ]
    },
    {
      "cell_type": "markdown",
      "id": "1ee685da",
      "metadata": {},
      "source": [
        "#### 3.2.2 Normalization, standardization, scaling\n",
        "\n",
        "The data normalization process lowers the scale and brings all the data-points on the same scale.\n",
        "\n",
        "If we have time series in our data, it is crucial to convert date and time into date time objects. \n",
        "\n",
        "Machine learning models are quite sensitive to the scale of data. They give more importance to the larger values while learning the properties of data. Hence, it becomes crucial for us to remove this bias by bringing down all the data-points to the same scale.\n",
        "\n",
        "after checking the normalizeid I found it We can use the this data without standardize or normalize in this step in the model I use the scaling for standardization.\n",
        "\n",
        "\n",
        "### 4.2 Correlation between different features:\n",
        "Correlation is the way of understanding the strength of the relationship between 2 variables or features in a dataset. Correlation coefficients determine this strength by indicating a value between [-1,1] where -1 indicates a very strong negative relationship, 0 indicates no relationship and 1 indicates strong positive relationship. Pearson correlation is one of the most widely used correlation method and it indicates the linear relationship between 2 variables. The heatmap of correlation between all variables of the dataset is given bellow: \n",
        "\n",
        "after checking the corrolation I selected failures.Math,  higher_yes ,failures.Math, for finding the model becouase this variable has corrolation with G1.math more than another columns.\n"
      ]
    },
    {
      "cell_type": "code",
      "execution_count": 249,
      "id": "Get-correlation-visually",
      "metadata": {
        "vscode": {
          "languageId": "python"
        }
      },
      "outputs": [
        {
          "data": {
            "text/plain": [
              "<Axes: >"
            ]
          },
          "execution_count": 249,
          "metadata": {},
          "output_type": "execute_result"
        },
        {
          "data": {
            "image/png": "[encoded data removed]",
            "text/plain": [
              "<Figure size 1900x1000 with 2 Axes>"
            ]
          },
          "metadata": {},
          "output_type": "display_data"
        }
      ],
      "source": [
        "#| label: Get correlation visually\n",
        "plt.figure(figsize = (19,10))\n",
        "sns.heatmap(G1Math_df2[['G1.Math','absences.Port', 'famsup', 'Walc','failures.Port','famrel','studytime', 'higher_yes','failures.Math', ]].corr(),annot=True, annot_kws={\"size\": 10}, linewidth=1, linecolor=\"black\")"
      ]
    },
    {
      "cell_type": "markdown",
      "id": "d261e9fb",
      "metadata": {},
      "source": [
        "as you can see , theer are a corrolation between failer.math and the failers.port: 0.51 and G1.math and failer.math corrolation is minus and G1.math and heier_yes has corelation +0.24 .\n"
      ]
    },
    {
      "cell_type": "code",
      "execution_count": 250,
      "id": "0fe20fd5",
      "metadata": {
        "vscode": {
          "languageId": "python"
        }
      },
      "outputs": [
        {
          "data": {
            "text/plain": [
              "G1.Math          1.000000\n",
              "higher_yes       0.238948\n",
              "studytime        0.135777\n",
              "famrel           0.037323\n",
              "Walc            -0.066664\n",
              "famsup          -0.070687\n",
              "failures.Port   -0.109396\n",
              "absences.Port   -0.174703\n",
              "failures.Math   -0.408430\n",
              "Name: G1.Math, dtype: float64"
            ]
          },
          "execution_count": 250,
          "metadata": {},
          "output_type": "execute_result"
        }
      ],
      "source": [
        "# Checking the linear correlation of variables\n",
        "df2=G1Math_df2[['G1.Math','absences.Port', 'famsup', 'Walc','failures.Port','famrel', 'studytime','higher_yes','failures.Math', ]]\n",
        "corr_matrix = df2.corr()\n",
        "corr_matrix['G1.Math'].sort_values(ascending = False)"
      ]
    },
    {
      "cell_type": "code",
      "execution_count": 251,
      "id": "1b9f0813",
      "metadata": {
        "vscode": {
          "languageId": "python"
        }
      },
      "outputs": [
        {
          "data": {
            "text/plain": [
              "Index(['G1.Math', 'absences.Port', 'famsup', 'Walc', 'failures.Port', 'famrel',\n",
              "       'higher_yes', 'failures.Math', 'studytime'],\n",
              "      dtype='object')"
            ]
          },
          "execution_count": 251,
          "metadata": {},
          "output_type": "execute_result"
        }
      ],
      "source": [
        "G1Math_df2.columns"
      ]
    },
    {
      "cell_type": "markdown",
      "id": "bbe9a5b7",
      "metadata": {},
      "source": [
        "in this step we have 8 variables and they are : 'G1.Math', 'absences.Port', 'famsup', 'Walc', 'failures.Port', 'famrel','higher_yes', 'failures.Math' and the other columns are not use in the model .\n",
        "\n",
        "\n",
        "\n",
        "**Key Findings**\n",
        "\n",
        "Positive Correlation: If the correlation coefficient is positive, it indicates a positive linear relationship. As one variable increases, the other tends to increase as well.\n",
        "\n",
        "Negative Correlation: If the correlation coefficient is negative, it indicates a negative linear relationship. As one variable increases, the other tends to decrease.\n",
        "\n",
        "Strength of Correlation: The closer the correlation coefficient is to +1 or -1, the stronger the correlation. A value of 0 indicates no linear correlation.\n",
        "\n",
        "Positive Correlation:\n",
        "\n",
        "higher_yes:\n",
        "\n",
        " There is a positive correlation of approximately 0.23 between 'higher_yes' (desire for higher education) and 'G1.Math'. This suggests that students who express a desire for higher education tend to have higher grades in the first period. The positive correlation indicates that as the likelihood of pursuing higher education increases, so does the performance in the first period.\n",
        "\n",
        "Walc:\n",
        "\n",
        " There is a positive but weak correlation of approximately 0.05 between 'Walc' (weekend alcohol consumption) and 'G1.Math'. This indicates a slight tendency that higher weekend alcohol consumption may be associated with slightly higher grades. While the correlation is positive, it is weak, suggesting that the relationship is not very strong.\n",
        "\n",
        "famrel:\n",
        "\n",
        "There is a positive correlation of approximately 0.03 between 'famrel' (quality of family relationships) and 'G1.Math'. This implies that students with better family relationships may have slightly higher grades. The positive correlation suggests that as the quality of family relationships improves, there is a small increase in academic performance.\n",
        "Negative Correlation:\n",
        "\n",
        "famsup:\n",
        "\n",
        " There is a negative correlation of approximately -0.08 between 'famsup' (family educational support) and 'G1.Math'. This suggests that students who receive more family educational support may have slightly lower grades in the first period. The negative correlation implies that as the level of family educational support increases, there is a small decrease in academic performance.\n",
        "\n",
        "failures.Port:\n",
        "\n",
        " There is a negative correlation of approximately -0.11 between 'failures.Port' (number of past class failures in the Portuguese subject) and 'G1.Math'. This indicates that students with fewer past class failures in the Portuguese subject tend to have higher grades. The negative correlation suggests that a lower history of failures in the Portuguese subject is associated with better academic performance.\n",
        "\n",
        "absences.Port:\n",
        "\n",
        " There is a negative correlation of approximately -0.16 between 'absences.Port' (number of school absences in the Portuguese subject) and 'G1.Math'. This implies that students with fewer school absences may have higher grades. The negative correlation indicates that as the number of school absences decreases, there is a small increase in academic performance.\n",
        "\n",
        "\n",
        "## 5. Data Analysis (Visualization and checking the distribution of each variable)\n",
        "\n",
        "### 5.1 Data Modeling\n"
      ]
    },
    {
      "cell_type": "code",
      "execution_count": 252,
      "id": "068c3e50",
      "metadata": {
        "vscode": {
          "languageId": "python"
        }
      },
      "outputs": [
        {
          "name": "stdout",
          "output_type": "stream",
          "text": [
            "<class 'pandas.core.frame.DataFrame'>\n",
            "RangeIndex: 948 entries, 0 to 947\n",
            "Data columns (total 9 columns):\n",
            " #   Column         Non-Null Count  Dtype\n",
            "---  ------         --------------  -----\n",
            " 0   G1.Math        948 non-null    int64\n",
            " 1   absences.Port  948 non-null    int64\n",
            " 2   famsup         948 non-null    int32\n",
            " 3   Walc           948 non-null    int64\n",
            " 4   failures.Port  948 non-null    int64\n",
            " 5   famrel         948 non-null    int64\n",
            " 6   higher_yes     948 non-null    int32\n",
            " 7   failures.Math  948 non-null    int64\n",
            " 8   studytime      948 non-null    int64\n",
            "dtypes: int32(2), int64(7)\n",
            "memory usage: 59.4 KB\n"
          ]
        }
      ],
      "source": [
        "G1Math_df2['G1.Math'].unique()\n",
        "G1Math_df2['G1.Math'].value_counts()\n",
        "G1Math_df2.info()"
      ]
    },
    {
      "cell_type": "markdown",
      "id": "27397768",
      "metadata": {},
      "source": [
        "Linear Regression:\n",
        "\n",
        "Description: Linear Regression is a simple and widely used regression algorithm. It models the relationship between a dependent variable and one or more independent variables by fitting a linear equation to observed data.\n",
        "\n",
        "Lasso Regression (L1 Regularization):\n",
        "\n",
        "Description: Lasso Regression is a linear regression technique with L1 regularization. It adds a penalty term proportional to the absolute values of the coefficients, encouraging sparsity and feature selection.\n",
        "\n",
        "Ridge Regression (L2 Regularization):\n",
        "\n",
        "Description: Ridge Regression is another form of linear regression with L2 regularization. It adds a penalty term proportional to the square of the coefficients, preventing overfitting by shrinking the coefficients.\n",
        "\n",
        "Support Vector Regression (SVR):\n",
        "\n",
        "Description: Support Vector Regression is a regression algorithm that uses support vector machines to find a hyperplane that best fits the data while minimizing deviations within a specified margin (epsilon).\n",
        "\n",
        "Random Forest Regressor:\n",
        "\n",
        "Description: Random Forest is an ensemble method that builds a collection of decision trees and merges their predictions. It provides better accuracy and reduces overfitting compared to a single decision tree.\n",
        "\n",
        "Neural Network (MLP - Multi-Layer Perceptron):\n",
        "\n",
        "Description: A Neural Network, specifically MLP, is a type of artificial neural network with multiple layers (input layer, hidden layers, and output layer). It can learn complex patterns and relationships in data.\n",
        "\n",
        "### 5.2\tModel Selection\n"
      ]
    },
    {
      "cell_type": "code",
      "execution_count": 253,
      "id": "d9eeef94",
      "metadata": {
        "vscode": {
          "languageId": "python"
        }
      },
      "outputs": [],
      "source": [
        "# Import necessary libraries\n",
        "from sklearn.model_selection import cross_val_score\n",
        "from sklearn.linear_model import LinearRegression, Lasso, Ridge\n",
        "from sklearn.svm import SVR\n",
        "from sklearn.ensemble import RandomForestRegressor\n",
        "from sklearn.neural_network import MLPRegressor\n",
        "from sklearn.metrics import make_scorer, mean_squared_error, r2_score\n",
        "from sklearn.preprocessing import StandardScaler\n",
        "from sklearn.model_selection import train_test_split"
      ]
    },
    {
      "cell_type": "markdown",
      "id": "f595b9de",
      "metadata": {},
      "source": [
        "for using the models we should be have data for testing and training so we create it after check the models and find the mse and r squar and check the perictions , \n",
        "\n",
        "***LinearRegression***"
      ]
    },
    {
      "cell_type": "code",
      "execution_count": 254,
      "id": "7c403d51",
      "metadata": {
        "vscode": {
          "languageId": "python"
        }
      },
      "outputs": [
        {
          "data": {
            "text/plain": [
              "Index(['G1.Math', 'absences.Port', 'famsup', 'Walc', 'failures.Port', 'famrel',\n",
              "       'higher_yes', 'failures.Math', 'studytime'],\n",
              "      dtype='object')"
            ]
          },
          "execution_count": 254,
          "metadata": {},
          "output_type": "execute_result"
        }
      ],
      "source": [
        "G1Math_df2.columns"
      ]
    },
    {
      "cell_type": "code",
      "execution_count": 255,
      "id": "a57a2513",
      "metadata": {
        "vscode": {
          "languageId": "python"
        }
      },
      "outputs": [],
      "source": [
        "# Selecting features and target variable\n",
        "x = G1Math_df2.drop(['G1.Math' ], axis=1)\n",
        "y = G1Math_df2['G1.Math']\n",
        "\n",
        "# Splitting the data into training and testing sets\n",
        "xtrain, xtest, ytrain, ytest = train_test_split(x, y, test_size=0.2, random_state=42)\n",
        "\n",
        "# Scaling the features using StandardScaler\n",
        "scaler = StandardScaler()\n",
        "xtrain_scaled = scaler.fit_transform(xtrain)\n",
        "xtest_scaled = scaler.transform(xtest)"
      ]
    },
    {
      "cell_type": "code",
      "execution_count": 256,
      "id": "1ffdbed1",
      "metadata": {
        "vscode": {
          "languageId": "python"
        }
      },
      "outputs": [
        {
          "name": "stdout",
          "output_type": "stream",
          "text": [
            "Mean Squared Error: 8.612957622975609\n",
            "R-squared: 0.2360891202433797\n"
          ]
        }
      ],
      "source": [
        "# Create a linear regression model\n",
        "model = LinearRegression()\n",
        "\n",
        "# Fit the model on the training data\n",
        "model.fit(xtrain, ytrain)\n",
        "\n",
        "# Make predictions on the test data\n",
        "y_pred = model.predict(xtest)\n",
        "\n",
        "# Evaluate the model\n",
        "mse = mean_squared_error(ytest, y_pred)\n",
        "r2 = r2_score(ytest, y_pred)\n",
        "\n",
        "print(f'Mean Squared Error: {mse}')\n",
        "print(f'R-squared: {r2}')\n"
      ]
    },
    {
      "cell_type": "code",
      "execution_count": 257,
      "id": "25e9128e",
      "metadata": {
        "vscode": {
          "languageId": "python"
        }
      },
      "outputs": [
        {
          "name": "stdout",
          "output_type": "stream",
          "text": [
            "Predictions on new data:\n",
            "[5.05281949]\n"
          ]
        }
      ],
      "source": [
        "# Now, we can use the model to make predictions on new data\n",
        "\n",
        "new_data = pd.DataFrame({\n",
        "'absences.Port':[0],\n",
        " 'famsup': [1], \n",
        " 'Walc':[2],\n",
        " 'failures.Port':[0]\n",
        " ,'famrel':[3]\n",
        " ,'higher_yes':[1],\n",
        " 'failures.Math' : [2],\n",
        " 'studytime':[2],\n",
        "})\n",
        "# Scaling the features of new_data using the same scaler\n",
        "new_data_scaled = scaler.transform(new_data)\n",
        "\n",
        "# Making predictions on the scaled new data\n",
        "new_predictions = model.predict(new_data_scaled)\n",
        "\n",
        "# Print or use the new predictions\n",
        "print(\"Predictions on new data:\")\n",
        "print(new_predictions)"
      ]
    },
    {
      "cell_type": "markdown",
      "id": "6b5010ac",
      "metadata": {},
      "source": [
        "Mean Squared Error (MSE):\n",
        "\n",
        "The Mean Squared Error is a measure of the average squared difference between the actual and predicted values.\n",
        "It provides a way to quantify how well the model is predicting the target variable.\n",
        "A lower MSE indicates better model performance, with zero representing a perfect fit (the predicted values match the actual values).\n",
        "In this case, an MSE of 8.66 means, on average, the squared difference between the actual and predicted 'G1.Math' values is 8.66. \n",
        "\n",
        "R-squared (R2):\n",
        "\n",
        "R-squared is a measure of how well the independent variables explain the variance in the dependent variable.\n",
        "It ranges from 0 to 1, where 1 indicates that the model perfectly predicts the dependent variable based on the independent variables.\n",
        "A higher R2 value suggests a better fit.\n",
        "In this case, an R2 of 0.23 means that approximately 23% of the variance in 'G1.Math' is explained by the independent variables in this model. The remaining 77% of the variance is not captured by the model. R2 should be interpreted in the context of  specific application, and it's essential to consider other factors like the nature of  data and the complexity of model.\n",
        "\n",
        "***Lasso***\n"
      ]
    },
    {
      "cell_type": "code",
      "execution_count": 258,
      "id": "ab06a998",
      "metadata": {
        "vscode": {
          "languageId": "python"
        }
      },
      "outputs": [
        {
          "name": "stdout",
          "output_type": "stream",
          "text": [
            "Mean Squared Error Lasso: 10.9293662038585\n",
            "R-squared Lasso: 0.030639401998197258\n"
          ]
        }
      ],
      "source": [
        "model = Lasso()\n",
        "\n",
        "# Fit the model on the training data\n",
        "model.fit(xtrain, ytrain)\n",
        "\n",
        "# Make predictions on the test data\n",
        "y_pred = model.predict(xtest)\n",
        "\n",
        "# Evaluate the model\n",
        "mse = mean_squared_error(ytest, y_pred)\n",
        "r2 = r2_score(ytest, y_pred)\n",
        "\n",
        "print(f'Mean Squared Error Lasso: {mse}')\n",
        "print(f'R-squared Lasso: {r2}')"
      ]
    },
    {
      "cell_type": "markdown",
      "id": "dfade0fb",
      "metadata": {},
      "source": [
        "the Lasso model is very bad becouas the r square is too low and the mse is equal 10 \n",
        "\n",
        "***Predictions on new data Lasso***\n"
      ]
    },
    {
      "cell_type": "code",
      "execution_count": 259,
      "id": "976f3e63",
      "metadata": {
        "vscode": {
          "languageId": "python"
        }
      },
      "outputs": [
        {
          "name": "stdout",
          "output_type": "stream",
          "text": [
            "Predictions on new data Lasso :\n",
            "[11.29732679]\n"
          ]
        }
      ],
      "source": [
        "new_data = pd.DataFrame({\n",
        "'absences.Port':[0],\n",
        " 'famsup': [1], \n",
        " 'Walc':[2],\n",
        " 'failures.Port':[0]\n",
        " ,'famrel':[3]\n",
        " ,'higher_yes':[1],\n",
        " 'failures.Math' : [2],\n",
        " 'studytime':[2],\n",
        "})\n",
        "# Scaling the features of new_data using the same scaler\n",
        "new_data_scaled = scaler.transform(new_data)\n",
        "\n",
        "# Making predictions on the scaled new data\n",
        "new_predictions = model.predict(new_data_scaled)\n",
        "\n",
        "# Print or use the new predictions\n",
        "print(\"Predictions on new data Lasso :\")\n",
        "print(new_predictions)"
      ]
    },
    {
      "cell_type": "markdown",
      "id": "b36e7f3f",
      "metadata": {},
      "source": [
        "***Ridge***\n"
      ]
    },
    {
      "cell_type": "code",
      "execution_count": 260,
      "id": "33dd9d56",
      "metadata": {
        "vscode": {
          "languageId": "python"
        }
      },
      "outputs": [
        {
          "name": "stdout",
          "output_type": "stream",
          "text": [
            "Mean Squared Error Lasso: 8.618051146588504\n",
            "R-squared Lasso: 0.23563735927176988\n"
          ]
        }
      ],
      "source": [
        "model = Ridge()\n",
        "\n",
        "# Fit the model on the training data\n",
        "model.fit(xtrain, ytrain)\n",
        "\n",
        "# Make predictions on the test data\n",
        "y_pred = model.predict(xtest)\n",
        "\n",
        "# Evaluate the model\n",
        "mse = mean_squared_error(ytest, y_pred)\n",
        "r2 = r2_score(ytest, y_pred)\n",
        "\n",
        "print(f'Mean Squared Error Lasso: {mse}')\n",
        "print(f'R-squared Lasso: {r2}')"
      ]
    },
    {
      "cell_type": "markdown",
      "id": "92f856f5",
      "metadata": {},
      "source": [
        "the Rige model the mse is 8.66 and the r-square is 23% \n",
        "\n",
        "\n",
        "***Predictions on new data Ridge***\n"
      ]
    },
    {
      "cell_type": "code",
      "execution_count": 261,
      "id": "164f9657",
      "metadata": {
        "vscode": {
          "languageId": "python"
        }
      },
      "outputs": [
        {
          "name": "stdout",
          "output_type": "stream",
          "text": [
            "Predictions on new data Ridge :\n",
            "[5.10439878]\n"
          ]
        }
      ],
      "source": [
        "new_data = pd.DataFrame({\n",
        "'absences.Port':[0],\n",
        " 'famsup': [1], \n",
        " 'Walc':[2],\n",
        " 'failures.Port':[0]\n",
        " ,'famrel':[3]\n",
        " ,'higher_yes':[1],\n",
        " 'failures.Math' : [2],\n",
        " 'studytime':[2],\n",
        "})\n",
        "# Scaling the features of new_data using the same scaler\n",
        "new_data_scaled = scaler.transform(new_data)\n",
        "\n",
        "# Making predictions on the scaled new data\n",
        "new_predictions = model.predict(new_data_scaled)\n",
        "\n",
        "# Print or use the new predictions\n",
        "print(\"Predictions on new data Ridge :\")\n",
        "print(new_predictions)"
      ]
    },
    {
      "cell_type": "markdown",
      "id": "0bb6cbbe",
      "metadata": {},
      "source": [
        "Predictions on new data Ridge :\n",
        "[5.76313868]\n",
        "\n",
        "***SVR***\n"
      ]
    },
    {
      "cell_type": "code",
      "execution_count": 262,
      "id": "e24d8267",
      "metadata": {
        "vscode": {
          "languageId": "python"
        }
      },
      "outputs": [
        {
          "name": "stdout",
          "output_type": "stream",
          "text": [
            "Mean Squared Error Lasso: 9.143160419051926\n",
            "R-squared Lasso: 0.1890637310414588\n"
          ]
        }
      ],
      "source": [
        "model = SVR()\n",
        "\n",
        "# Fit the model on the training data\n",
        "model.fit(xtrain, ytrain)\n",
        "\n",
        "# Make predictions on the test data\n",
        "y_pred = model.predict(xtest)\n",
        "\n",
        "# Evaluate the model\n",
        "mse = mean_squared_error(ytest, y_pred)\n",
        "r2 = r2_score(ytest, y_pred)\n",
        "\n",
        "print(f'Mean Squared Error Lasso: {mse}')\n",
        "print(f'R-squared Lasso: {r2}')"
      ]
    },
    {
      "cell_type": "markdown",
      "id": "ca592870",
      "metadata": {},
      "source": [
        "the mse : 9 and r squar is 18% and it is not good . \n",
        "\n",
        "***Predictions on new data SVR***\n"
      ]
    },
    {
      "cell_type": "code",
      "execution_count": 263,
      "id": "4cadf0b9",
      "metadata": {
        "vscode": {
          "languageId": "python"
        }
      },
      "outputs": [
        {
          "name": "stdout",
          "output_type": "stream",
          "text": [
            "Predictions on new data SVR :\n",
            "[9.21410466]\n"
          ]
        }
      ],
      "source": [
        "new_data = pd.DataFrame({\n",
        "'absences.Port':[0],\n",
        " 'famsup': [1], \n",
        " 'Walc':[2],\n",
        " 'failures.Port':[0]\n",
        " ,'famrel':[3]\n",
        " ,'higher_yes':[1],\n",
        " 'failures.Math' : [2],\n",
        " 'studytime':[2],\n",
        "})\n",
        "# Scaling the features of new_data using the same scaler\n",
        "new_data_scaled = scaler.transform(new_data)\n",
        "\n",
        "# Making predictions on the scaled new data\n",
        "new_predictions = model.predict(new_data_scaled)\n",
        "\n",
        "# Print or use the new predictions\n",
        "print(\"Predictions on new data SVR :\")\n",
        "print(new_predictions)"
      ]
    },
    {
      "cell_type": "markdown",
      "id": "e96c326d",
      "metadata": {},
      "source": [
        "***RandomForestRegressor***\n"
      ]
    },
    {
      "cell_type": "code",
      "execution_count": 264,
      "id": "862b2b44",
      "metadata": {
        "vscode": {
          "languageId": "python"
        }
      },
      "outputs": [
        {
          "name": "stdout",
          "output_type": "stream",
          "text": [
            "Mean Squared Error Lasso: 3.8218740187569105\n",
            "R-squared Lasso: 0.6610257159283565\n"
          ]
        }
      ],
      "source": [
        "model = RandomForestRegressor()\n",
        "\n",
        "# Fit the model on the training data\n",
        "model.fit(xtrain, ytrain)\n",
        "\n",
        "# Make predictions on the test data\n",
        "y_pred = model.predict(xtest)\n",
        "\n",
        "# Evaluate the model\n",
        "mse = mean_squared_error(ytest, y_pred)\n",
        "r2 = r2_score(ytest, y_pred)\n",
        "\n",
        "print(f'Mean Squared Error Lasso: {mse}')\n",
        "print(f'R-squared Lasso: {r2}')"
      ]
    },
    {
      "cell_type": "markdown",
      "id": "4b5caeb7",
      "metadata": {},
      "source": [
        "***Predictions on new data RandomForestRegressor***\n"
      ]
    },
    {
      "cell_type": "code",
      "execution_count": 265,
      "id": "33fccece",
      "metadata": {
        "vscode": {
          "languageId": "python"
        }
      },
      "outputs": [
        {
          "name": "stdout",
          "output_type": "stream",
          "text": [
            "Predictions on new data RandomForestRegressor :\n",
            "[6.38]\n"
          ]
        }
      ],
      "source": [
        "new_data = pd.DataFrame({\n",
        "'absences.Port':[0],\n",
        " 'famsup': [1], \n",
        " 'Walc':[2],\n",
        " 'failures.Port':[0]\n",
        " ,'famrel':[3]\n",
        " ,'higher_yes':[1],\n",
        " 'failures.Math' : [2],\n",
        " 'studytime':[2],\n",
        "})\n",
        "# Scaling the features of new_data using the same scaler\n",
        "new_data_scaled = scaler.transform(new_data)\n",
        "\n",
        "# Making predictions on the scaled new data\n",
        "new_predictions = model.predict(new_data_scaled)\n",
        "\n",
        "# Print or use the new predictions\n",
        "print(\"Predictions on new data RandomForestRegressor :\")\n",
        "print(new_predictions)"
      ]
    },
    {
      "cell_type": "markdown",
      "id": "a67c0d4b",
      "metadata": {},
      "source": [
        "***MLPRegressor***\n"
      ]
    },
    {
      "cell_type": "code",
      "execution_count": 266,
      "id": "22a5cac3",
      "metadata": {
        "vscode": {
          "languageId": "python"
        }
      },
      "outputs": [
        {
          "name": "stdout",
          "output_type": "stream",
          "text": [
            "Mean Squared Error MLPRegressor: 8.710165404149608\n",
            "R-squared MLPRegressor: 0.2274674498617988\n"
          ]
        }
      ],
      "source": [
        "model = MLPRegressor()\n",
        "\n",
        "# Fit the model on the training data\n",
        "model.fit(xtrain, ytrain)\n",
        "\n",
        "# Make predictions on the test data\n",
        "y_pred = model.predict(xtest)\n",
        "\n",
        "# Evaluate the model\n",
        "mse = mean_squared_error(ytest, y_pred)\n",
        "r2 = r2_score(ytest, y_pred)\n",
        "\n",
        "print(f'Mean Squared Error MLPRegressor: {mse}')\n",
        "print(f'R-squared MLPRegressor: {r2}')"
      ]
    },
    {
      "cell_type": "markdown",
      "id": "4b19a8b9",
      "metadata": {},
      "source": [
        "***Predictions on new data MLPRegressor***\n"
      ]
    },
    {
      "cell_type": "code",
      "execution_count": 267,
      "id": "af0f7e44",
      "metadata": {
        "vscode": {
          "languageId": "python"
        }
      },
      "outputs": [
        {
          "name": "stdout",
          "output_type": "stream",
          "text": [
            "Predictions on new data MLPRegressor :\n",
            "[2.37918741]\n"
          ]
        }
      ],
      "source": [
        "new_data = pd.DataFrame({\n",
        "'absences.Port':[0],\n",
        " 'famsup': [1], \n",
        " 'Walc':[2],\n",
        " 'failures.Port':[0]\n",
        " ,'famrel':[3]\n",
        " ,'higher_yes':[1],\n",
        " 'failures.Math' : [2],\n",
        " 'studytime':[2],\n",
        "})\n",
        "# Scaling the features of new_data using the same scaler\n",
        "new_data_scaled = scaler.transform(new_data)\n",
        "\n",
        "# Making predictions on the scaled new data\n",
        "new_predictions = model.predict(new_data_scaled)\n",
        "\n",
        "# Print or use the new predictions\n",
        "print(\"Predictions on new data MLPRegressor :\")\n",
        "print(new_predictions)"
      ]
    },
    {
      "cell_type": "markdown",
      "id": "eca6f7aa",
      "metadata": {},
      "source": [
        "# Task 2 \n",
        "\n",
        "Task 2: Bin the target variable G1.Math into 3 categories in such a way that the resulting bins contain roughly equal number of cases. Use this newly created categorical variable as response for a classification model. Again do no tuse any other grade feature and build a model that contains the variables absences.Port, famsup, Walc, failures.Port, studytime, famrel but not the variables Fedu, Medu, age.\n"
      ]
    },
    {
      "cell_type": "code",
      "execution_count": 268,
      "id": "3c82e206",
      "metadata": {
        "vscode": {
          "languageId": "python"
        }
      },
      "outputs": [],
      "source": [
        "import pandas as pd\n",
        "from sklearn.model_selection import train_test_split\n",
        "from sklearn.tree import DecisionTreeClassifier\n",
        "from sklearn.metrics import accuracy_score, classification_report\n",
        "from sklearn.preprocessing import KBinsDiscretizer\n",
        "from sklearn.linear_model import LogisticRegression\n",
        "from sklearn.discriminant_analysis import LinearDiscriminantAnalysis\n",
        "from sklearn.neighbors import KNeighborsClassifier\n",
        "from sklearn.ensemble import RandomForestClassifier\n",
        "from sklearn.model_selection import KFold\n",
        "from sklearn.model_selection import cross_val_score\n",
        "from sklearn.preprocessing import StandardScaler\n",
        "from sklearn.metrics import confusion_matrix\n"
      ]
    },
    {
      "cell_type": "code",
      "execution_count": 269,
      "id": "440f4df9",
      "metadata": {
        "vscode": {
          "languageId": "python"
        }
      },
      "outputs": [
        {
          "name": "stdout",
          "output_type": "stream",
          "text": [
            "[[46  4  7]\n",
            " [ 6 38  8]\n",
            " [ 5  5 71]]\n",
            "Accuracy: 0.8157894736842105\n",
            "Classification Report:\n",
            "              precision    recall  f1-score   support\n",
            "\n",
            "         0.0       0.81      0.81      0.81        57\n",
            "         1.0       0.81      0.73      0.77        52\n",
            "         2.0       0.83      0.88      0.85        81\n",
            "\n",
            "    accuracy                           0.82       190\n",
            "   macro avg       0.81      0.80      0.81       190\n",
            "weighted avg       0.82      0.82      0.81       190\n",
            "\n"
          ]
        }
      ],
      "source": [
        "# Select relevant features and the target variable\n",
        "features = ['absences.Port', 'famsup', 'Walc', 'failures.Port', 'famrel','higher_yes','studytime']\n",
        "target = 'G1.Math'\n",
        "\n",
        "# Drop unwanted columns\n",
        "G1Math_df2 = G1Math_df2[features + [target]]\n",
        "\n",
        "# Bin the target variable into 3 categories\n",
        "k_bins = KBinsDiscretizer(n_bins=3, encode='ordinal', strategy='quantile')\n",
        "G1Math_df2['G1.Math_binned'] = k_bins.fit_transform(G1Math_df2[[target]])\n",
        "\n",
        "# Select features and the binned target variable for the model\n",
        "X = G1Math_df2[features]\n",
        "y = G1Math_df2['G1.Math_binned']\n",
        "\n",
        "# Split the data into training and testing sets\n",
        "X_train, X_test, y_train, y_test = train_test_split(X, y, test_size=0.2, random_state=42)\n",
        "\n",
        "# Create a decision tree classifier \n",
        "model = DecisionTreeClassifier(random_state=42)\n",
        "\n",
        "# Fit the model on the training data\n",
        "model.fit(X_train, y_train)\n",
        "\n",
        "# Make predictions on the test data\n",
        "y_pred = model.predict(X_test)\n",
        "\n",
        "# Evaluate the model\n",
        "accuracy = accuracy_score(y_test, y_pred)\n",
        "classification_rep = classification_report(y_test, y_pred)\n",
        "cm = confusion_matrix(y_test, y_pred)\n",
        "print(cm)\n",
        "print(f'Accuracy: {accuracy}')\n",
        "print('Classification Report:')\n",
        "print(classification_rep)"
      ]
    },
    {
      "cell_type": "markdown",
      "id": "fa534253",
      "metadata": {},
      "source": [
        "***RandomForestClassifier***\n"
      ]
    },
    {
      "cell_type": "code",
      "execution_count": 270,
      "id": "d0ca4128",
      "metadata": {
        "vscode": {
          "languageId": "python"
        }
      },
      "outputs": [
        {
          "name": "stdout",
          "output_type": "stream",
          "text": [
            "[[46  4  7]\n",
            " [ 6 38  8]\n",
            " [ 4  6 71]]\n",
            "Accuracy: 0.8157894736842105\n",
            "Classification Report:\n",
            "              precision    recall  f1-score   support\n",
            "\n",
            "         0.0       0.82      0.81      0.81        57\n",
            "         1.0       0.79      0.73      0.76        52\n",
            "         2.0       0.83      0.88      0.85        81\n",
            "\n",
            "    accuracy                           0.82       190\n",
            "   macro avg       0.81      0.80      0.81       190\n",
            "weighted avg       0.82      0.82      0.81       190\n",
            "\n"
          ]
        }
      ],
      "source": [
        "# Create a decision tree classifier \n",
        "model = RandomForestClassifier(n_jobs=-1)\n",
        "\n",
        "# Fit the model on the training data\n",
        "model.fit(X_train, y_train)\n",
        "\n",
        "# Make predictions on the test data\n",
        "y_pred = model.predict(X_test)\n",
        "\n",
        "# Evaluate the model\n",
        "accuracy = accuracy_score(y_test, y_pred)\n",
        "classification_rep = classification_report(y_test, y_pred)\n",
        "cm = confusion_matrix(y_test, y_pred)\n",
        "print(cm)\n",
        "print(f'Accuracy: {accuracy}')\n",
        "print('Classification Report:')\n",
        "print(classification_rep)"
      ]
    },
    {
      "cell_type": "markdown",
      "id": "b2b09448",
      "metadata": {},
      "source": [
        "***LinearDiscriminantAnalysis***"
      ]
    },
    {
      "cell_type": "code",
      "execution_count": 271,
      "id": "dea936dd",
      "metadata": {
        "vscode": {
          "languageId": "python"
        }
      },
      "outputs": [
        {
          "name": "stdout",
          "output_type": "stream",
          "text": [
            "[[12  5 40]\n",
            " [ 3  8 41]\n",
            " [ 2  3 76]]\n",
            "Accuracy: 0.5052631578947369\n",
            "Classification Report:\n",
            "              precision    recall  f1-score   support\n",
            "\n",
            "         0.0       0.71      0.21      0.32        57\n",
            "         1.0       0.50      0.15      0.24        52\n",
            "         2.0       0.48      0.94      0.64        81\n",
            "\n",
            "    accuracy                           0.51       190\n",
            "   macro avg       0.56      0.43      0.40       190\n",
            "weighted avg       0.55      0.51      0.43       190\n",
            "\n"
          ]
        }
      ],
      "source": [
        "# Create a decision tree classifier \n",
        "model = LinearDiscriminantAnalysis()\n",
        "\n",
        "# Fit the model on the training data\n",
        "model.fit(X_train, y_train)\n",
        "\n",
        "# Make predictions on the test data\n",
        "y_pred = model.predict(X_test)\n",
        "\n",
        "# Evaluate the model\n",
        "accuracy = accuracy_score(y_test, y_pred)\n",
        "classification_rep = classification_report(y_test, y_pred)\n",
        "cm = confusion_matrix(y_test, y_pred)\n",
        "print(cm)\n",
        "print(f'Accuracy: {accuracy}')\n",
        "print('Classification Report:')\n",
        "print(classification_rep)"
      ]
    },
    {
      "cell_type": "markdown",
      "id": "18ee9261",
      "metadata": {},
      "source": [
        "***KNeighborsClassifier***"
      ]
    },
    {
      "cell_type": "code",
      "execution_count": 272,
      "id": "05c8a101",
      "metadata": {
        "vscode": {
          "languageId": "python"
        }
      },
      "outputs": [
        {
          "name": "stdout",
          "output_type": "stream",
          "text": [
            "[[34 12 11]\n",
            " [ 7 33 12]\n",
            " [12 13 56]]\n",
            "Accuracy: 0.6473684210526316\n",
            "Classification Report:\n",
            "              precision    recall  f1-score   support\n",
            "\n",
            "         0.0       0.64      0.60      0.62        57\n",
            "         1.0       0.57      0.63      0.60        52\n",
            "         2.0       0.71      0.69      0.70        81\n",
            "\n",
            "    accuracy                           0.65       190\n",
            "   macro avg       0.64      0.64      0.64       190\n",
            "weighted avg       0.65      0.65      0.65       190\n",
            "\n"
          ]
        }
      ],
      "source": [
        "model = KNeighborsClassifier()\n",
        "\n",
        "# Fit the model on the training data\n",
        "model.fit(X_train, y_train)\n",
        "\n",
        "# Make predictions on the test data\n",
        "y_pred = model.predict(X_test)\n",
        "\n",
        "# Evaluate the model\n",
        "accuracy = accuracy_score(y_test, y_pred)\n",
        "cm = confusion_matrix(y_test, y_pred)\n",
        "classification_rep = classification_report(y_test, y_pred)\n",
        "print(cm)\n",
        "print(f'Accuracy: {accuracy}')\n",
        "print('Classification Report:')\n",
        "print(classification_rep)"
      ]
    },
    {
      "cell_type": "markdown",
      "id": "ed240a95",
      "metadata": {},
      "source": [
        "after categorise the model we can use the clasification models an they help us to better accuracy . for example we have 82% accuracy in model RandomForestclassifier was shown.\n",
        "\n",
        "I chack the models again by k-fold for finding better diffrencial result :  \n"
      ]
    },
    {
      "cell_type": "code",
      "execution_count": 273,
      "id": "1eaf4d88",
      "metadata": {
        "vscode": {
          "languageId": "python"
        }
      },
      "outputs": [
        {
          "name": "stdout",
          "output_type": "stream",
          "text": [
            "LR: 0.430070 (0.056090)\n",
            "LDA: 0.171439 (0.062116)\n",
            "KNN: 0.544825 (0.050729)\n",
            "DTC: 0.795421 (0.046306)\n",
            "RFM: 0.803333 (0.051045)\n"
          ]
        }
      ],
      "source": [
        "\n",
        "\n",
        "\n",
        "# Selecting features and target variable\n",
        "x = G1Math_df2.drop(['G1.Math' ], axis=1)\n",
        "y = G1Math_df2['G1.Math']\n",
        "\n",
        "# Splitting the data into training and testing sets\n",
        "xtrain, xtest, ytrain, ytest = train_test_split(x, y, test_size=0.2, random_state=42)\n",
        "\n",
        "# Scaling the features using StandardScaler\n",
        "scaler = StandardScaler()\n",
        "xtrain_scaled = scaler.fit_transform(xtrain)\n",
        "xtest_scaled = scaler.transform(xtest)\n",
        "\n",
        "# Defining classification models\n",
        "models = [\n",
        "    ('LR', LogisticRegression(n_jobs=-1)),\n",
        "    ('LDA', LinearDiscriminantAnalysis()),\n",
        "    ('KNN', KNeighborsClassifier()),\n",
        "    ('DTC', DecisionTreeClassifier()),\n",
        "    ('RFM', RandomForestClassifier(n_jobs=-1))\n",
        "]\n",
        "\n",
        "# 10-fold cross-validation\n",
        "results = []\n",
        "names = []\n",
        "\n",
        "for name, model in models:\n",
        "    kfold = KFold(n_splits=10, shuffle=True, random_state=42)\n",
        "    cv_results = cross_val_score(model, xtrain_scaled, ytrain, cv=kfold, scoring='accuracy')\n",
        "    results.append(cv_results)\n",
        "    names.append(name)\n",
        "\n",
        "    msg = \"%s: %f (%f)\" % (name, cv_results.mean(), cv_results.std())\n",
        "    print(msg)"
      ]
    }
  ],
  "metadata": {
    "kernelspec": {
      "display_name": "Python 3",
      "language": "python",
      "name": "python3"
    }
  },
  "nbformat": 4,
  "nbformat_minor": 5
}
